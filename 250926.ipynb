{
  "nbformat": 4,
  "nbformat_minor": 0,
  "metadata": {
    "colab": {
      "provenance": []
    },
    "kernelspec": {
      "name": "python3",
      "display_name": "Python 3"
    },
    "language_info": {
      "name": "python"
    }
  },
  "cells": [
    {
      "cell_type": "code",
      "execution_count": 10,
      "metadata": {
        "id": "xqRk0AtkXwN7",
        "colab": {
          "base_uri": "https://localhost:8080/"
        },
        "outputId": "91288d2d-eefd-42da-f29b-f8a35b8746cd"
      },
      "outputs": [
        {
          "output_type": "stream",
          "name": "stdout",
          "text": [
            "숫자를 입력하세요: 5\n",
            "홀수입니다.\n"
          ]
        }
      ],
      "source": [
        "num=int(input(\"숫자를 입력하세요: \"))\n",
        "if num % 2 == 0:\n",
        "        print(\"짝수입니다.\")\n",
        "else:\n",
        "  print()"
      ]
    },
    {
      "cell_type": "code",
      "source": [
        "score = int(input(\"점수를 입력하세요.: \"))\n",
        "\n",
        "if 0 <= score <= 100:\n",
        "    if score >= 90:\n",
        "        print(\"A\")\n",
        "    elif score >= 70:\n",
        "        print(\"B\")\n",
        "    elif score >= 60:\n",
        "        print(\"C\")\n",
        "    else:\n",
        "        print(\"D\")\n",
        "else:\n",
        "    print(\"잘못된 점수 범위입니다.0에서 100 사이의 점수를 입력해주세요.\")"
      ],
      "metadata": {
        "id": "iFziB8N2icpg",
        "colab": {
          "base_uri": "https://localhost:8080/"
        },
        "outputId": "a201cf30-fc7d-414d-e216-a4331b892af1"
      },
      "execution_count": 16,
      "outputs": [
        {
          "output_type": "stream",
          "name": "stdout",
          "text": [
            "점수를 입력하세요.: 10\n",
            "D\n"
          ]
        }
      ]
    },
    {
      "cell_type": "code",
      "source": [
        "score = int(input(\"점수를 입력하세요.: \"))\n",
        "\n",
        "if score < 100 and score >= 90  :\n",
        "        print(\"A\")\n",
        "elif  score < 90 and score >= 70:\n",
        "        print(\"B\")\n",
        "elif score < 70 and score >= 60:\n",
        "        print(\"C\")\n",
        "elif score < 60 and score >= 0:\n",
        "        print(\"D\")\n",
        "else:\n",
        "        print(\"잘못된 점수 범위입니다.\")"
      ],
      "metadata": {
        "colab": {
          "base_uri": "https://localhost:8080/"
        },
        "id": "hen67zKpo0-p",
        "outputId": "6d348860-f545-4f7e-821e-1880c8ac1c92"
      },
      "execution_count": 20,
      "outputs": [
        {
          "output_type": "stream",
          "name": "stdout",
          "text": [
            "점수를 입력하세요.: 200\n",
            "잘못된 점수 범위입니다.\n"
          ]
        }
      ]
    },
    {
      "cell_type": "code",
      "source": [
        "sum=0\n",
        "for a in range(1,101) :\n",
        "  sum=sum+a\n",
        "print(\"1부터 100까지의 합은\", sum, \"입니다.\")"
      ],
      "metadata": {
        "colab": {
          "base_uri": "https://localhost:8080/"
        },
        "id": "8WLnFEd7qqCQ",
        "outputId": "064bfcb7-0a69-4b9b-befa-fef7a9a8cb0a"
      },
      "execution_count": 22,
      "outputs": [
        {
          "output_type": "stream",
          "name": "stdout",
          "text": [
            "1부터 100까지의 합은 5050 입니다.\n"
          ]
        }
      ]
    },
    {
      "cell_type": "code",
      "source": [
        "#짝수와 홀수합 각각 (혼자연습 : 틀림)\n",
        "sum=0\n",
        "for a in range(1,101) :\n",
        "  sum=sum+a\n",
        "if sum%2==0:\n",
        "    print(\"A\")\n",
        "if sum%2==1:\n",
        "  print(\"b\")"
      ],
      "metadata": {
        "colab": {
          "base_uri": "https://localhost:8080/"
        },
        "id": "Hp9YFM1exElC",
        "outputId": "d46b2a79-1097-4c4a-d82b-9baa60ac72b4"
      },
      "execution_count": 30,
      "outputs": [
        {
          "output_type": "stream",
          "name": "stdout",
          "text": [
            "A\n"
          ]
        }
      ]
    },
    {
      "cell_type": "code",
      "source": [
        "#1~100까지 짝수합과 홀수합을 출력하시오(정답)\n",
        "\n",
        "sum = 0 #홀수합산\n",
        "sum1 = 0 #짝수합산\n",
        "\n",
        "for a in range(1, 101):\n",
        "  if a % 2 == 0:\n",
        "    sum1=sum1+a\n",
        "  else:\n",
        "    sum= sum+a\n",
        "\n",
        "print(\"1부터 100까지의 짝수 합은:\", sum1)\n",
        "print(\"1부터 100까지의 홀수 합은:\", sum)"
      ],
      "metadata": {
        "colab": {
          "base_uri": "https://localhost:8080/"
        },
        "id": "lZ2_WA0jzJ3n",
        "outputId": "9311e161-5a4b-4fba-db87-7a13c94be15c"
      },
      "execution_count": 31,
      "outputs": [
        {
          "output_type": "stream",
          "name": "stdout",
          "text": [
            "1부터 100까지의 짝수 합은: 2550\n",
            "1부터 100까지의 홀수 합은: 2500\n"
          ]
        }
      ]
    },
    {
      "cell_type": "code",
      "source": [
        "sum = 0\n",
        "money = 100\n",
        "day = 0  # day 변수를 0으로 초기화\n",
        "\n",
        "while sum < 50000:\n",
        "  sum = sum + money\n",
        "  money = money + 100\n",
        "  day = day + 1\n",
        "\n",
        "print(\"총\", day, \"일이 걸립니다.\")"
      ],
      "metadata": {
        "colab": {
          "base_uri": "https://localhost:8080/"
        },
        "id": "P4iuRs2_0yQ2",
        "outputId": "939340f5-3367-4381-d114-5567feb045c9"
      },
      "execution_count": 35,
      "outputs": [
        {
          "output_type": "stream",
          "name": "stdout",
          "text": [
            "총 32 일이 걸립니다.\n"
          ]
        }
      ]
    },
    {
      "cell_type": "code",
      "source": [
        "#숫자를 입력받아서 총합을 구하는 프로그램을 작성하시오. 단 0을 입력되면 종료되고 최종 총합을 출력한다.\n",
        "sum=0\n",
        "num = int(input(\"숫자를 입력하세요 (종료하려면 0 입력): \"))\n",
        "\n",
        "while num != 0:\n",
        "  sum= sum+num\n",
        "  num=int(input(\"숫자를 입력하세요 (종료하려면 0 입력): \"))\n",
        "\n",
        "print(\"입력된 숫자들의 총합은:\", sum)\n"
      ],
      "metadata": {
        "colab": {
          "base_uri": "https://localhost:8080/"
        },
        "id": "pCI-y5Tw4ESS",
        "outputId": "091290d0-3a57-43fb-ac29-4b874aedfb73"
      },
      "execution_count": 39,
      "outputs": [
        {
          "output_type": "stream",
          "name": "stdout",
          "text": [
            "숫자를 입력하세요 (종료하려면 0 입력): 100\n",
            "숫자를 입력하세요 (종료하려면 0 입력): 10\n",
            "숫자를 입력하세요 (종료하려면 0 입력): 55\n",
            "숫자를 입력하세요 (종료하려면 0 입력): 5\n",
            "숫자를 입력하세요 (종료하려면 0 입력): 0\n",
            "입력된 숫자들의 총합은: 170\n"
          ]
        }
      ]
    },
    {
      "cell_type": "code",
      "source": [],
      "metadata": {
        "id": "ddMiFPYE566I"
      },
      "execution_count": null,
      "outputs": []
    }
  ]
}
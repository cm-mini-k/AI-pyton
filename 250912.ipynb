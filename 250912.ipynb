{
  "nbformat": 4,
  "nbformat_minor": 0,
  "metadata": {
    "colab": {
      "provenance": []
    },
    "kernelspec": {
      "name": "python3",
      "display_name": "Python 3"
    },
    "language_info": {
      "name": "python"
    }
  },
  "cells": [
    {
      "cell_type": "code",
      "execution_count": 1,
      "metadata": {
        "id": "cJEkperpYowJ"
      },
      "outputs": [],
      "source": [
        "\n",
        "import numpy as np\n"
      ]
    },
    {
      "cell_type": "code",
      "source": [
        "numbers = np.array([1, 2, 3, 4, 5])\n"
      ],
      "metadata": {
        "id": "Ii48HZLDY5n1"
      },
      "execution_count": 2,
      "outputs": []
    },
    {
      "cell_type": "code",
      "source": [
        "numbers"
      ],
      "metadata": {
        "colab": {
          "base_uri": "https://localhost:8080/"
        },
        "id": "Z3kPemX2a9zh",
        "outputId": "70314728-40a2-422f-dc67-294bd337d3ae"
      },
      "execution_count": 3,
      "outputs": [
        {
          "output_type": "execute_result",
          "data": {
            "text/plain": [
              "array([1, 2, 3, 4, 5])"
            ]
          },
          "metadata": {},
          "execution_count": 3
        }
      ]
    },
    {
      "cell_type": "code",
      "source": [
        "print(\"평균:\", np.mean(numbers))"
      ],
      "metadata": {
        "colab": {
          "base_uri": "https://localhost:8080/"
        },
        "id": "TQdzN-x4bLC5",
        "outputId": "14545be6-dbca-4965-f30c-438e7d413e36"
      },
      "execution_count": 4,
      "outputs": [
        {
          "output_type": "stream",
          "name": "stdout",
          "text": [
            "평균: 3.0\n"
          ]
        }
      ]
    },
    {
      "cell_type": "code",
      "source": [
        "print(\"합계:\", np.sum(numbers))"
      ],
      "metadata": {
        "colab": {
          "base_uri": "https://localhost:8080/"
        },
        "id": "5epvehN2bQ4x",
        "outputId": "dee2beb7-d896-403d-8e93-70b45459d92b"
      },
      "execution_count": 5,
      "outputs": [
        {
          "output_type": "stream",
          "name": "stdout",
          "text": [
            "합계: 15\n"
          ]
        }
      ]
    },
    {
      "cell_type": "code",
      "source": [
        "numbers(2)"
      ],
      "metadata": {
        "colab": {
          "base_uri": "https://localhost:8080/",
          "height": 147
        },
        "id": "fkn9w8X6cygX",
        "outputId": "a91c68ed-d881-4984-b641-681623a322c0"
      },
      "execution_count": 6,
      "outputs": [
        {
          "output_type": "error",
          "ename": "TypeError",
          "evalue": "'numpy.ndarray' object is not callable",
          "traceback": [
            "\u001b[0;31m---------------------------------------------------------------------------\u001b[0m",
            "\u001b[0;31mTypeError\u001b[0m                                 Traceback (most recent call last)",
            "\u001b[0;32m/tmp/ipython-input-2803054734.py\u001b[0m in \u001b[0;36m<cell line: 0>\u001b[0;34m()\u001b[0m\n\u001b[0;32m----> 1\u001b[0;31m \u001b[0mnumbers\u001b[0m\u001b[0;34m(\u001b[0m\u001b[0;36m2\u001b[0m\u001b[0;34m)\u001b[0m\u001b[0;34m\u001b[0m\u001b[0;34m\u001b[0m\u001b[0m\n\u001b[0m",
            "\u001b[0;31mTypeError\u001b[0m: 'numpy.ndarray' object is not callable"
          ]
        }
      ]
    },
    {
      "cell_type": "code",
      "source": [
        "numbers[2]"
      ],
      "metadata": {
        "colab": {
          "base_uri": "https://localhost:8080/"
        },
        "id": "rIEPQkQ4eD2H",
        "outputId": "36c909d5-fef3-47cc-e662-6097cb80621a"
      },
      "execution_count": 7,
      "outputs": [
        {
          "output_type": "execute_result",
          "data": {
            "text/plain": [
              "np.int64(3)"
            ]
          },
          "metadata": {},
          "execution_count": 7
        }
      ]
    },
    {
      "cell_type": "code",
      "source": [
        "numbers[3]"
      ],
      "metadata": {
        "colab": {
          "base_uri": "https://localhost:8080/"
        },
        "id": "TN-YhCXIeIHW",
        "outputId": "645e9998-792f-4004-a362-a3c6262f7820"
      },
      "execution_count": 8,
      "outputs": [
        {
          "output_type": "execute_result",
          "data": {
            "text/plain": [
              "np.int64(4)"
            ]
          },
          "metadata": {},
          "execution_count": 8
        }
      ]
    },
    {
      "cell_type": "code",
      "source": [
        "matrix = np.array([[1, 2], [3, 4]])\n",
        "print(\"행렬:\\n\", matrix)\n"
      ],
      "metadata": {
        "colab": {
          "base_uri": "https://localhost:8080/"
        },
        "id": "0BU85M9NeWkd",
        "outputId": "a388005b-474b-4d94-a2bb-18249ed23ab9"
      },
      "execution_count": 9,
      "outputs": [
        {
          "output_type": "stream",
          "name": "stdout",
          "text": [
            "행렬:\n",
            " [[1 2]\n",
            " [3 4]]\n"
          ]
        }
      ]
    },
    {
      "cell_type": "code",
      "source": [
        "matrix[1,0]"
      ],
      "metadata": {
        "colab": {
          "base_uri": "https://localhost:8080/"
        },
        "id": "akPECXDqfUvs",
        "outputId": "2529f6dd-8e58-4896-ce9f-3cf603fcde81"
      },
      "execution_count": 10,
      "outputs": [
        {
          "output_type": "execute_result",
          "data": {
            "text/plain": [
              "np.int64(3)"
            ]
          },
          "metadata": {},
          "execution_count": 10
        }
      ]
    },
    {
      "cell_type": "code",
      "source": [
        "matrix[0,1]"
      ],
      "metadata": {
        "colab": {
          "base_uri": "https://localhost:8080/"
        },
        "id": "AVdKI8GSf3T8",
        "outputId": "fc94cc22-f7ed-4705-d051-9e152aa336ca"
      },
      "execution_count": 11,
      "outputs": [
        {
          "output_type": "execute_result",
          "data": {
            "text/plain": [
              "np.int64(2)"
            ]
          },
          "metadata": {},
          "execution_count": 11
        }
      ]
    },
    {
      "cell_type": "code",
      "source": [
        "import pandas as pd"
      ],
      "metadata": {
        "id": "11NJ5Y4JgO5b"
      },
      "execution_count": 12,
      "outputs": []
    },
    {
      "cell_type": "code",
      "source": [
        "students = pd.DataFrame({\n",
        "'이름': ['김철수', '이영희', '박민수'],\n",
        "'수학': [85, 92, 78],\n",
        "'영어': [78, 85, 90]\n",
        "})\n"
      ],
      "metadata": {
        "id": "Of462CEAgbdj"
      },
      "execution_count": 13,
      "outputs": []
    },
    {
      "cell_type": "code",
      "source": [
        "print(\"학생 데이터:\")\n",
        "print(students)"
      ],
      "metadata": {
        "colab": {
          "base_uri": "https://localhost:8080/"
        },
        "id": "Px635uZWg1JL",
        "outputId": "3a78c033-ed15-4fd5-9650-3a3323097e84"
      },
      "execution_count": 14,
      "outputs": [
        {
          "output_type": "stream",
          "name": "stdout",
          "text": [
            "학생 데이터:\n",
            "    이름  수학  영어\n",
            "0  김철수  85  78\n",
            "1  이영희  92  85\n",
            "2  박민수  78  90\n"
          ]
        }
      ]
    },
    {
      "cell_type": "code",
      "source": [
        "print(students)"
      ],
      "metadata": {
        "colab": {
          "base_uri": "https://localhost:8080/"
        },
        "id": "kx-9JMixhEUq",
        "outputId": "48ebafd4-77d4-4ea3-cffa-9c62034e7808"
      },
      "execution_count": 15,
      "outputs": [
        {
          "output_type": "stream",
          "name": "stdout",
          "text": [
            "    이름  수학  영어\n",
            "0  김철수  85  78\n",
            "1  이영희  92  85\n",
            "2  박민수  78  90\n"
          ]
        }
      ]
    },
    {
      "cell_type": "code",
      "source": [
        "students"
      ],
      "metadata": {
        "colab": {
          "base_uri": "https://localhost:8080/",
          "height": 203
        },
        "id": "1S3_D4dchJ26",
        "outputId": "2d708dbd-3c54-4a86-86cd-23f4aa7d08bc"
      },
      "execution_count": 16,
      "outputs": [
        {
          "output_type": "execute_result",
          "data": {
            "text/plain": [
              "    이름  수학  영어\n",
              "0  김철수  85  78\n",
              "1  이영희  92  85\n",
              "2  박민수  78  90"
            ],
            "text/html": [
              "\n",
              "  <div id=\"df-0df210cf-b6e9-459c-8ab7-3b6f56941680\" class=\"colab-df-container\">\n",
              "    <div>\n",
              "<style scoped>\n",
              "    .dataframe tbody tr th:only-of-type {\n",
              "        vertical-align: middle;\n",
              "    }\n",
              "\n",
              "    .dataframe tbody tr th {\n",
              "        vertical-align: top;\n",
              "    }\n",
              "\n",
              "    .dataframe thead th {\n",
              "        text-align: right;\n",
              "    }\n",
              "</style>\n",
              "<table border=\"1\" class=\"dataframe\">\n",
              "  <thead>\n",
              "    <tr style=\"text-align: right;\">\n",
              "      <th></th>\n",
              "      <th>이름</th>\n",
              "      <th>수학</th>\n",
              "      <th>영어</th>\n",
              "    </tr>\n",
              "  </thead>\n",
              "  <tbody>\n",
              "    <tr>\n",
              "      <th>0</th>\n",
              "      <td>김철수</td>\n",
              "      <td>85</td>\n",
              "      <td>78</td>\n",
              "    </tr>\n",
              "    <tr>\n",
              "      <th>1</th>\n",
              "      <td>이영희</td>\n",
              "      <td>92</td>\n",
              "      <td>85</td>\n",
              "    </tr>\n",
              "    <tr>\n",
              "      <th>2</th>\n",
              "      <td>박민수</td>\n",
              "      <td>78</td>\n",
              "      <td>90</td>\n",
              "    </tr>\n",
              "  </tbody>\n",
              "</table>\n",
              "</div>\n",
              "    <div class=\"colab-df-buttons\">\n",
              "\n",
              "  <div class=\"colab-df-container\">\n",
              "    <button class=\"colab-df-convert\" onclick=\"convertToInteractive('df-0df210cf-b6e9-459c-8ab7-3b6f56941680')\"\n",
              "            title=\"Convert this dataframe to an interactive table.\"\n",
              "            style=\"display:none;\">\n",
              "\n",
              "  <svg xmlns=\"http://www.w3.org/2000/svg\" height=\"24px\" viewBox=\"0 -960 960 960\">\n",
              "    <path d=\"M120-120v-720h720v720H120Zm60-500h600v-160H180v160Zm220 220h160v-160H400v160Zm0 220h160v-160H400v160ZM180-400h160v-160H180v160Zm440 0h160v-160H620v160ZM180-180h160v-160H180v160Zm440 0h160v-160H620v160Z\"/>\n",
              "  </svg>\n",
              "    </button>\n",
              "\n",
              "  <style>\n",
              "    .colab-df-container {\n",
              "      display:flex;\n",
              "      gap: 12px;\n",
              "    }\n",
              "\n",
              "    .colab-df-convert {\n",
              "      background-color: #E8F0FE;\n",
              "      border: none;\n",
              "      border-radius: 50%;\n",
              "      cursor: pointer;\n",
              "      display: none;\n",
              "      fill: #1967D2;\n",
              "      height: 32px;\n",
              "      padding: 0 0 0 0;\n",
              "      width: 32px;\n",
              "    }\n",
              "\n",
              "    .colab-df-convert:hover {\n",
              "      background-color: #E2EBFA;\n",
              "      box-shadow: 0px 1px 2px rgba(60, 64, 67, 0.3), 0px 1px 3px 1px rgba(60, 64, 67, 0.15);\n",
              "      fill: #174EA6;\n",
              "    }\n",
              "\n",
              "    .colab-df-buttons div {\n",
              "      margin-bottom: 4px;\n",
              "    }\n",
              "\n",
              "    [theme=dark] .colab-df-convert {\n",
              "      background-color: #3B4455;\n",
              "      fill: #D2E3FC;\n",
              "    }\n",
              "\n",
              "    [theme=dark] .colab-df-convert:hover {\n",
              "      background-color: #434B5C;\n",
              "      box-shadow: 0px 1px 3px 1px rgba(0, 0, 0, 0.15);\n",
              "      filter: drop-shadow(0px 1px 2px rgba(0, 0, 0, 0.3));\n",
              "      fill: #FFFFFF;\n",
              "    }\n",
              "  </style>\n",
              "\n",
              "    <script>\n",
              "      const buttonEl =\n",
              "        document.querySelector('#df-0df210cf-b6e9-459c-8ab7-3b6f56941680 button.colab-df-convert');\n",
              "      buttonEl.style.display =\n",
              "        google.colab.kernel.accessAllowed ? 'block' : 'none';\n",
              "\n",
              "      async function convertToInteractive(key) {\n",
              "        const element = document.querySelector('#df-0df210cf-b6e9-459c-8ab7-3b6f56941680');\n",
              "        const dataTable =\n",
              "          await google.colab.kernel.invokeFunction('convertToInteractive',\n",
              "                                                    [key], {});\n",
              "        if (!dataTable) return;\n",
              "\n",
              "        const docLinkHtml = 'Like what you see? Visit the ' +\n",
              "          '<a target=\"_blank\" href=https://colab.research.google.com/notebooks/data_table.ipynb>data table notebook</a>'\n",
              "          + ' to learn more about interactive tables.';\n",
              "        element.innerHTML = '';\n",
              "        dataTable['output_type'] = 'display_data';\n",
              "        await google.colab.output.renderOutput(dataTable, element);\n",
              "        const docLink = document.createElement('div');\n",
              "        docLink.innerHTML = docLinkHtml;\n",
              "        element.appendChild(docLink);\n",
              "      }\n",
              "    </script>\n",
              "  </div>\n",
              "\n",
              "\n",
              "    <div id=\"df-7142b153-2b1f-417c-b5c7-a11bc135eb42\">\n",
              "      <button class=\"colab-df-quickchart\" onclick=\"quickchart('df-7142b153-2b1f-417c-b5c7-a11bc135eb42')\"\n",
              "                title=\"Suggest charts\"\n",
              "                style=\"display:none;\">\n",
              "\n",
              "<svg xmlns=\"http://www.w3.org/2000/svg\" height=\"24px\"viewBox=\"0 0 24 24\"\n",
              "     width=\"24px\">\n",
              "    <g>\n",
              "        <path d=\"M19 3H5c-1.1 0-2 .9-2 2v14c0 1.1.9 2 2 2h14c1.1 0 2-.9 2-2V5c0-1.1-.9-2-2-2zM9 17H7v-7h2v7zm4 0h-2V7h2v10zm4 0h-2v-4h2v4z\"/>\n",
              "    </g>\n",
              "</svg>\n",
              "      </button>\n",
              "\n",
              "<style>\n",
              "  .colab-df-quickchart {\n",
              "      --bg-color: #E8F0FE;\n",
              "      --fill-color: #1967D2;\n",
              "      --hover-bg-color: #E2EBFA;\n",
              "      --hover-fill-color: #174EA6;\n",
              "      --disabled-fill-color: #AAA;\n",
              "      --disabled-bg-color: #DDD;\n",
              "  }\n",
              "\n",
              "  [theme=dark] .colab-df-quickchart {\n",
              "      --bg-color: #3B4455;\n",
              "      --fill-color: #D2E3FC;\n",
              "      --hover-bg-color: #434B5C;\n",
              "      --hover-fill-color: #FFFFFF;\n",
              "      --disabled-bg-color: #3B4455;\n",
              "      --disabled-fill-color: #666;\n",
              "  }\n",
              "\n",
              "  .colab-df-quickchart {\n",
              "    background-color: var(--bg-color);\n",
              "    border: none;\n",
              "    border-radius: 50%;\n",
              "    cursor: pointer;\n",
              "    display: none;\n",
              "    fill: var(--fill-color);\n",
              "    height: 32px;\n",
              "    padding: 0;\n",
              "    width: 32px;\n",
              "  }\n",
              "\n",
              "  .colab-df-quickchart:hover {\n",
              "    background-color: var(--hover-bg-color);\n",
              "    box-shadow: 0 1px 2px rgba(60, 64, 67, 0.3), 0 1px 3px 1px rgba(60, 64, 67, 0.15);\n",
              "    fill: var(--button-hover-fill-color);\n",
              "  }\n",
              "\n",
              "  .colab-df-quickchart-complete:disabled,\n",
              "  .colab-df-quickchart-complete:disabled:hover {\n",
              "    background-color: var(--disabled-bg-color);\n",
              "    fill: var(--disabled-fill-color);\n",
              "    box-shadow: none;\n",
              "  }\n",
              "\n",
              "  .colab-df-spinner {\n",
              "    border: 2px solid var(--fill-color);\n",
              "    border-color: transparent;\n",
              "    border-bottom-color: var(--fill-color);\n",
              "    animation:\n",
              "      spin 1s steps(1) infinite;\n",
              "  }\n",
              "\n",
              "  @keyframes spin {\n",
              "    0% {\n",
              "      border-color: transparent;\n",
              "      border-bottom-color: var(--fill-color);\n",
              "      border-left-color: var(--fill-color);\n",
              "    }\n",
              "    20% {\n",
              "      border-color: transparent;\n",
              "      border-left-color: var(--fill-color);\n",
              "      border-top-color: var(--fill-color);\n",
              "    }\n",
              "    30% {\n",
              "      border-color: transparent;\n",
              "      border-left-color: var(--fill-color);\n",
              "      border-top-color: var(--fill-color);\n",
              "      border-right-color: var(--fill-color);\n",
              "    }\n",
              "    40% {\n",
              "      border-color: transparent;\n",
              "      border-right-color: var(--fill-color);\n",
              "      border-top-color: var(--fill-color);\n",
              "    }\n",
              "    60% {\n",
              "      border-color: transparent;\n",
              "      border-right-color: var(--fill-color);\n",
              "    }\n",
              "    80% {\n",
              "      border-color: transparent;\n",
              "      border-right-color: var(--fill-color);\n",
              "      border-bottom-color: var(--fill-color);\n",
              "    }\n",
              "    90% {\n",
              "      border-color: transparent;\n",
              "      border-bottom-color: var(--fill-color);\n",
              "    }\n",
              "  }\n",
              "</style>\n",
              "\n",
              "      <script>\n",
              "        async function quickchart(key) {\n",
              "          const quickchartButtonEl =\n",
              "            document.querySelector('#' + key + ' button');\n",
              "          quickchartButtonEl.disabled = true;  // To prevent multiple clicks.\n",
              "          quickchartButtonEl.classList.add('colab-df-spinner');\n",
              "          try {\n",
              "            const charts = await google.colab.kernel.invokeFunction(\n",
              "                'suggestCharts', [key], {});\n",
              "          } catch (error) {\n",
              "            console.error('Error during call to suggestCharts:', error);\n",
              "          }\n",
              "          quickchartButtonEl.classList.remove('colab-df-spinner');\n",
              "          quickchartButtonEl.classList.add('colab-df-quickchart-complete');\n",
              "        }\n",
              "        (() => {\n",
              "          let quickchartButtonEl =\n",
              "            document.querySelector('#df-7142b153-2b1f-417c-b5c7-a11bc135eb42 button');\n",
              "          quickchartButtonEl.style.display =\n",
              "            google.colab.kernel.accessAllowed ? 'block' : 'none';\n",
              "        })();\n",
              "      </script>\n",
              "    </div>\n",
              "\n",
              "  <div id=\"id_793e6572-bcd4-4d35-8e17-b5406cfe52e4\">\n",
              "    <style>\n",
              "      .colab-df-generate {\n",
              "        background-color: #E8F0FE;\n",
              "        border: none;\n",
              "        border-radius: 50%;\n",
              "        cursor: pointer;\n",
              "        display: none;\n",
              "        fill: #1967D2;\n",
              "        height: 32px;\n",
              "        padding: 0 0 0 0;\n",
              "        width: 32px;\n",
              "      }\n",
              "\n",
              "      .colab-df-generate:hover {\n",
              "        background-color: #E2EBFA;\n",
              "        box-shadow: 0px 1px 2px rgba(60, 64, 67, 0.3), 0px 1px 3px 1px rgba(60, 64, 67, 0.15);\n",
              "        fill: #174EA6;\n",
              "      }\n",
              "\n",
              "      [theme=dark] .colab-df-generate {\n",
              "        background-color: #3B4455;\n",
              "        fill: #D2E3FC;\n",
              "      }\n",
              "\n",
              "      [theme=dark] .colab-df-generate:hover {\n",
              "        background-color: #434B5C;\n",
              "        box-shadow: 0px 1px 3px 1px rgba(0, 0, 0, 0.15);\n",
              "        filter: drop-shadow(0px 1px 2px rgba(0, 0, 0, 0.3));\n",
              "        fill: #FFFFFF;\n",
              "      }\n",
              "    </style>\n",
              "    <button class=\"colab-df-generate\" onclick=\"generateWithVariable('students')\"\n",
              "            title=\"Generate code using this dataframe.\"\n",
              "            style=\"display:none;\">\n",
              "\n",
              "  <svg xmlns=\"http://www.w3.org/2000/svg\" height=\"24px\"viewBox=\"0 0 24 24\"\n",
              "       width=\"24px\">\n",
              "    <path d=\"M7,19H8.4L18.45,9,17,7.55,7,17.6ZM5,21V16.75L18.45,3.32a2,2,0,0,1,2.83,0l1.4,1.43a1.91,1.91,0,0,1,.58,1.4,1.91,1.91,0,0,1-.58,1.4L9.25,21ZM18.45,9,17,7.55Zm-12,3A5.31,5.31,0,0,0,4.9,8.1,5.31,5.31,0,0,0,1,6.5,5.31,5.31,0,0,0,4.9,4.9,5.31,5.31,0,0,0,6.5,1,5.31,5.31,0,0,0,8.1,4.9,5.31,5.31,0,0,0,12,6.5,5.46,5.46,0,0,0,6.5,12Z\"/>\n",
              "  </svg>\n",
              "    </button>\n",
              "    <script>\n",
              "      (() => {\n",
              "      const buttonEl =\n",
              "        document.querySelector('#id_793e6572-bcd4-4d35-8e17-b5406cfe52e4 button.colab-df-generate');\n",
              "      buttonEl.style.display =\n",
              "        google.colab.kernel.accessAllowed ? 'block' : 'none';\n",
              "\n",
              "      buttonEl.onclick = () => {\n",
              "        google.colab.notebook.generateWithVariable('students');\n",
              "      }\n",
              "      })();\n",
              "    </script>\n",
              "  </div>\n",
              "\n",
              "    </div>\n",
              "  </div>\n"
            ],
            "application/vnd.google.colaboratory.intrinsic+json": {
              "type": "dataframe",
              "variable_name": "students",
              "summary": "{\n  \"name\": \"students\",\n  \"rows\": 3,\n  \"fields\": [\n    {\n      \"column\": \"\\uc774\\ub984\",\n      \"properties\": {\n        \"dtype\": \"string\",\n        \"num_unique_values\": 3,\n        \"samples\": [\n          \"\\uae40\\ucca0\\uc218\",\n          \"\\uc774\\uc601\\ud76c\",\n          \"\\ubc15\\ubbfc\\uc218\"\n        ],\n        \"semantic_type\": \"\",\n        \"description\": \"\"\n      }\n    },\n    {\n      \"column\": \"\\uc218\\ud559\",\n      \"properties\": {\n        \"dtype\": \"number\",\n        \"std\": 7,\n        \"min\": 78,\n        \"max\": 92,\n        \"num_unique_values\": 3,\n        \"samples\": [\n          85,\n          92,\n          78\n        ],\n        \"semantic_type\": \"\",\n        \"description\": \"\"\n      }\n    },\n    {\n      \"column\": \"\\uc601\\uc5b4\",\n      \"properties\": {\n        \"dtype\": \"number\",\n        \"std\": 6,\n        \"min\": 78,\n        \"max\": 90,\n        \"num_unique_values\": 3,\n        \"samples\": [\n          78,\n          85,\n          90\n        ],\n        \"semantic_type\": \"\",\n        \"description\": \"\"\n      }\n    }\n  ]\n}"
            }
          },
          "metadata": {},
          "execution_count": 16
        }
      ]
    },
    {
      "cell_type": "code",
      "source": [
        "print(students.iloc[1, 2])"
      ],
      "metadata": {
        "colab": {
          "base_uri": "https://localhost:8080/",
          "height": 575
        },
        "id": "NtRcSliZhOLi",
        "outputId": "9e6508c0-cd6b-4732-d4e7-468a824a9986"
      },
      "execution_count": 18,
      "outputs": [
        {
          "output_type": "error",
          "ename": "KeyError",
          "evalue": "(1, 2)",
          "traceback": [
            "\u001b[0;31m---------------------------------------------------------------------------\u001b[0m",
            "\u001b[0;31mKeyError\u001b[0m                                  Traceback (most recent call last)",
            "\u001b[0;32m/usr/local/lib/python3.12/dist-packages/pandas/core/indexes/base.py\u001b[0m in \u001b[0;36mget_loc\u001b[0;34m(self, key)\u001b[0m\n\u001b[1;32m   3804\u001b[0m         \u001b[0;32mtry\u001b[0m\u001b[0;34m:\u001b[0m\u001b[0;34m\u001b[0m\u001b[0;34m\u001b[0m\u001b[0m\n\u001b[0;32m-> 3805\u001b[0;31m             \u001b[0;32mreturn\u001b[0m \u001b[0mself\u001b[0m\u001b[0;34m.\u001b[0m\u001b[0m_engine\u001b[0m\u001b[0;34m.\u001b[0m\u001b[0mget_loc\u001b[0m\u001b[0;34m(\u001b[0m\u001b[0mcasted_key\u001b[0m\u001b[0;34m)\u001b[0m\u001b[0;34m\u001b[0m\u001b[0;34m\u001b[0m\u001b[0m\n\u001b[0m\u001b[1;32m   3806\u001b[0m         \u001b[0;32mexcept\u001b[0m \u001b[0mKeyError\u001b[0m \u001b[0;32mas\u001b[0m \u001b[0merr\u001b[0m\u001b[0;34m:\u001b[0m\u001b[0;34m\u001b[0m\u001b[0;34m\u001b[0m\u001b[0m\n",
            "\u001b[0;32mindex.pyx\u001b[0m in \u001b[0;36mpandas._libs.index.IndexEngine.get_loc\u001b[0;34m()\u001b[0m\n",
            "\u001b[0;32mindex.pyx\u001b[0m in \u001b[0;36mpandas._libs.index.IndexEngine.get_loc\u001b[0;34m()\u001b[0m\n",
            "\u001b[0;32mpandas/_libs/hashtable_class_helper.pxi\u001b[0m in \u001b[0;36mpandas._libs.hashtable.PyObjectHashTable.get_item\u001b[0;34m()\u001b[0m\n",
            "\u001b[0;32mpandas/_libs/hashtable_class_helper.pxi\u001b[0m in \u001b[0;36mpandas._libs.hashtable.PyObjectHashTable.get_item\u001b[0;34m()\u001b[0m\n",
            "\u001b[0;31mKeyError\u001b[0m: (1, 2)",
            "\nThe above exception was the direct cause of the following exception:\n",
            "\u001b[0;31mKeyError\u001b[0m                                  Traceback (most recent call last)",
            "\u001b[0;32m/tmp/ipython-input-1158283282.py\u001b[0m in \u001b[0;36m<cell line: 0>\u001b[0;34m()\u001b[0m\n\u001b[0;32m----> 1\u001b[0;31m \u001b[0mprint\u001b[0m\u001b[0;34m(\u001b[0m\u001b[0mstudents\u001b[0m\u001b[0;34m[\u001b[0m\u001b[0;36m1\u001b[0m\u001b[0;34m,\u001b[0m\u001b[0;36m2\u001b[0m\u001b[0;34m]\u001b[0m\u001b[0;34m)\u001b[0m\u001b[0;34m\u001b[0m\u001b[0;34m\u001b[0m\u001b[0m\n\u001b[0m",
            "\u001b[0;32m/usr/local/lib/python3.12/dist-packages/pandas/core/frame.py\u001b[0m in \u001b[0;36m__getitem__\u001b[0;34m(self, key)\u001b[0m\n\u001b[1;32m   4100\u001b[0m             \u001b[0;32mif\u001b[0m \u001b[0mself\u001b[0m\u001b[0;34m.\u001b[0m\u001b[0mcolumns\u001b[0m\u001b[0;34m.\u001b[0m\u001b[0mnlevels\u001b[0m \u001b[0;34m>\u001b[0m \u001b[0;36m1\u001b[0m\u001b[0;34m:\u001b[0m\u001b[0;34m\u001b[0m\u001b[0;34m\u001b[0m\u001b[0m\n\u001b[1;32m   4101\u001b[0m                 \u001b[0;32mreturn\u001b[0m \u001b[0mself\u001b[0m\u001b[0;34m.\u001b[0m\u001b[0m_getitem_multilevel\u001b[0m\u001b[0;34m(\u001b[0m\u001b[0mkey\u001b[0m\u001b[0;34m)\u001b[0m\u001b[0;34m\u001b[0m\u001b[0;34m\u001b[0m\u001b[0m\n\u001b[0;32m-> 4102\u001b[0;31m             \u001b[0mindexer\u001b[0m \u001b[0;34m=\u001b[0m \u001b[0mself\u001b[0m\u001b[0;34m.\u001b[0m\u001b[0mcolumns\u001b[0m\u001b[0;34m.\u001b[0m\u001b[0mget_loc\u001b[0m\u001b[0;34m(\u001b[0m\u001b[0mkey\u001b[0m\u001b[0;34m)\u001b[0m\u001b[0;34m\u001b[0m\u001b[0;34m\u001b[0m\u001b[0m\n\u001b[0m\u001b[1;32m   4103\u001b[0m             \u001b[0;32mif\u001b[0m \u001b[0mis_integer\u001b[0m\u001b[0;34m(\u001b[0m\u001b[0mindexer\u001b[0m\u001b[0;34m)\u001b[0m\u001b[0;34m:\u001b[0m\u001b[0;34m\u001b[0m\u001b[0;34m\u001b[0m\u001b[0m\n\u001b[1;32m   4104\u001b[0m                 \u001b[0mindexer\u001b[0m \u001b[0;34m=\u001b[0m \u001b[0;34m[\u001b[0m\u001b[0mindexer\u001b[0m\u001b[0;34m]\u001b[0m\u001b[0;34m\u001b[0m\u001b[0;34m\u001b[0m\u001b[0m\n",
            "\u001b[0;32m/usr/local/lib/python3.12/dist-packages/pandas/core/indexes/base.py\u001b[0m in \u001b[0;36mget_loc\u001b[0;34m(self, key)\u001b[0m\n\u001b[1;32m   3810\u001b[0m             ):\n\u001b[1;32m   3811\u001b[0m                 \u001b[0;32mraise\u001b[0m \u001b[0mInvalidIndexError\u001b[0m\u001b[0;34m(\u001b[0m\u001b[0mkey\u001b[0m\u001b[0;34m)\u001b[0m\u001b[0;34m\u001b[0m\u001b[0;34m\u001b[0m\u001b[0m\n\u001b[0;32m-> 3812\u001b[0;31m             \u001b[0;32mraise\u001b[0m \u001b[0mKeyError\u001b[0m\u001b[0;34m(\u001b[0m\u001b[0mkey\u001b[0m\u001b[0;34m)\u001b[0m \u001b[0;32mfrom\u001b[0m \u001b[0merr\u001b[0m\u001b[0;34m\u001b[0m\u001b[0;34m\u001b[0m\u001b[0m\n\u001b[0m\u001b[1;32m   3813\u001b[0m         \u001b[0;32mexcept\u001b[0m \u001b[0mTypeError\u001b[0m\u001b[0;34m:\u001b[0m\u001b[0;34m\u001b[0m\u001b[0;34m\u001b[0m\u001b[0m\n\u001b[1;32m   3814\u001b[0m             \u001b[0;31m# If we have a listlike key, _check_indexing_error will raise\u001b[0m\u001b[0;34m\u001b[0m\u001b[0;34m\u001b[0m\u001b[0m\n",
            "\u001b[0;31mKeyError\u001b[0m: (1, 2)"
          ]
        }
      ]
    },
    {
      "cell_type": "code",
      "source": [
        "import matplotlib.pyplot as plt\n",
        "# 한글 폰트 설정 (한글 깨짐 방지)\n",
        "plt.rcParams['font.family'] = 'Malgun Gothic' # Windows\n",
        "plt.rcParams['axes.unicode_minus'] = False\n",
        "# 간단한 그래프 그리기\n",
        "x = [1, 2, 3, 4, 5]\n",
        "y = [2, 4, 6, 8, 10]\n",
        "plt.figure(figsize=(8, 5))\n",
        "plt.plot(x, y, 'bo-', label='데이터')\n",
        "plt.title('간단한 그래프 예제')\n",
        "plt.xlabel('X 값')\n",
        "plt.ylabel('Y 값')\n",
        "plt.legend()"
      ],
      "metadata": {
        "colab": {
          "base_uri": "https://localhost:8080/",
          "height": 1000
        },
        "id": "AAM60xjUhidL",
        "outputId": "061c72cd-0fec-4845-bc95-e38d684288a0"
      },
      "execution_count": 19,
      "outputs": [
        {
          "output_type": "execute_result",
          "data": {
            "text/plain": [
              "<matplotlib.legend.Legend at 0x790864c32720>"
            ]
          },
          "metadata": {},
          "execution_count": 19
        },
        {
          "output_type": "stream",
          "name": "stderr",
          "text": [
            "WARNING:matplotlib.font_manager:findfont: Font family 'Malgun Gothic' not found.\n",
            "WARNING:matplotlib.font_manager:findfont: Font family 'Malgun Gothic' not found.\n",
            "WARNING:matplotlib.font_manager:findfont: Font family 'Malgun Gothic' not found.\n",
            "WARNING:matplotlib.font_manager:findfont: Font family 'Malgun Gothic' not found.\n",
            "WARNING:matplotlib.font_manager:findfont: Font family 'Malgun Gothic' not found.\n",
            "WARNING:matplotlib.font_manager:findfont: Font family 'Malgun Gothic' not found.\n",
            "WARNING:matplotlib.font_manager:findfont: Font family 'Malgun Gothic' not found.\n",
            "WARNING:matplotlib.font_manager:findfont: Font family 'Malgun Gothic' not found.\n",
            "WARNING:matplotlib.font_manager:findfont: Font family 'Malgun Gothic' not found.\n",
            "WARNING:matplotlib.font_manager:findfont: Font family 'Malgun Gothic' not found.\n",
            "WARNING:matplotlib.font_manager:findfont: Font family 'Malgun Gothic' not found.\n",
            "/usr/local/lib/python3.12/dist-packages/IPython/core/events.py:89: UserWarning: Glyph 44050 (\\N{HANGUL SYLLABLE GABS}) missing from font(s) DejaVu Sans.\n",
            "  func(*args, **kwargs)\n",
            "WARNING:matplotlib.font_manager:findfont: Font family 'Malgun Gothic' not found.\n",
            "WARNING:matplotlib.font_manager:findfont: Font family 'Malgun Gothic' not found.\n",
            "/usr/local/lib/python3.12/dist-packages/IPython/core/events.py:89: UserWarning: Glyph 44036 (\\N{HANGUL SYLLABLE GAN}) missing from font(s) DejaVu Sans.\n",
            "  func(*args, **kwargs)\n",
            "/usr/local/lib/python3.12/dist-packages/IPython/core/events.py:89: UserWarning: Glyph 45800 (\\N{HANGUL SYLLABLE DAN}) missing from font(s) DejaVu Sans.\n",
            "  func(*args, **kwargs)\n",
            "/usr/local/lib/python3.12/dist-packages/IPython/core/events.py:89: UserWarning: Glyph 54620 (\\N{HANGUL SYLLABLE HAN}) missing from font(s) DejaVu Sans.\n",
            "  func(*args, **kwargs)\n",
            "/usr/local/lib/python3.12/dist-packages/IPython/core/events.py:89: UserWarning: Glyph 44536 (\\N{HANGUL SYLLABLE GEU}) missing from font(s) DejaVu Sans.\n",
            "  func(*args, **kwargs)\n",
            "/usr/local/lib/python3.12/dist-packages/IPython/core/events.py:89: UserWarning: Glyph 47000 (\\N{HANGUL SYLLABLE RAE}) missing from font(s) DejaVu Sans.\n",
            "  func(*args, **kwargs)\n",
            "/usr/local/lib/python3.12/dist-packages/IPython/core/events.py:89: UserWarning: Glyph 54532 (\\N{HANGUL SYLLABLE PEU}) missing from font(s) DejaVu Sans.\n",
            "  func(*args, **kwargs)\n",
            "/usr/local/lib/python3.12/dist-packages/IPython/core/events.py:89: UserWarning: Glyph 50696 (\\N{HANGUL SYLLABLE YE}) missing from font(s) DejaVu Sans.\n",
            "  func(*args, **kwargs)\n",
            "/usr/local/lib/python3.12/dist-packages/IPython/core/events.py:89: UserWarning: Glyph 51228 (\\N{HANGUL SYLLABLE JE}) missing from font(s) DejaVu Sans.\n",
            "  func(*args, **kwargs)\n",
            "WARNING:matplotlib.font_manager:findfont: Font family 'Malgun Gothic' not found.\n",
            "WARNING:matplotlib.font_manager:findfont: Font family 'Malgun Gothic' not found.\n",
            "WARNING:matplotlib.font_manager:findfont: Font family 'Malgun Gothic' not found.\n",
            "WARNING:matplotlib.font_manager:findfont: Font family 'Malgun Gothic' not found.\n",
            "WARNING:matplotlib.font_manager:findfont: Font family 'Malgun Gothic' not found.\n",
            "WARNING:matplotlib.font_manager:findfont: Font family 'Malgun Gothic' not found.\n",
            "WARNING:matplotlib.font_manager:findfont: Font family 'Malgun Gothic' not found.\n",
            "WARNING:matplotlib.font_manager:findfont: Font family 'Malgun Gothic' not found.\n",
            "WARNING:matplotlib.font_manager:findfont: Font family 'Malgun Gothic' not found.\n",
            "WARNING:matplotlib.font_manager:findfont: Font family 'Malgun Gothic' not found.\n",
            "WARNING:matplotlib.font_manager:findfont: Font family 'Malgun Gothic' not found.\n",
            "WARNING:matplotlib.font_manager:findfont: Font family 'Malgun Gothic' not found.\n",
            "WARNING:matplotlib.font_manager:findfont: Font family 'Malgun Gothic' not found.\n",
            "WARNING:matplotlib.font_manager:findfont: Font family 'Malgun Gothic' not found.\n",
            "WARNING:matplotlib.font_manager:findfont: Font family 'Malgun Gothic' not found.\n",
            "WARNING:matplotlib.font_manager:findfont: Font family 'Malgun Gothic' not found.\n",
            "WARNING:matplotlib.font_manager:findfont: Font family 'Malgun Gothic' not found.\n",
            "WARNING:matplotlib.font_manager:findfont: Font family 'Malgun Gothic' not found.\n",
            "WARNING:matplotlib.font_manager:findfont: Font family 'Malgun Gothic' not found.\n",
            "WARNING:matplotlib.font_manager:findfont: Font family 'Malgun Gothic' not found.\n",
            "WARNING:matplotlib.font_manager:findfont: Font family 'Malgun Gothic' not found.\n",
            "WARNING:matplotlib.font_manager:findfont: Font family 'Malgun Gothic' not found.\n",
            "WARNING:matplotlib.font_manager:findfont: Font family 'Malgun Gothic' not found.\n",
            "WARNING:matplotlib.font_manager:findfont: Font family 'Malgun Gothic' not found.\n",
            "WARNING:matplotlib.font_manager:findfont: Font family 'Malgun Gothic' not found.\n",
            "WARNING:matplotlib.font_manager:findfont: Font family 'Malgun Gothic' not found.\n",
            "WARNING:matplotlib.font_manager:findfont: Font family 'Malgun Gothic' not found.\n",
            "WARNING:matplotlib.font_manager:findfont: Font family 'Malgun Gothic' not found.\n",
            "WARNING:matplotlib.font_manager:findfont: Font family 'Malgun Gothic' not found.\n",
            "WARNING:matplotlib.font_manager:findfont: Font family 'Malgun Gothic' not found.\n",
            "WARNING:matplotlib.font_manager:findfont: Font family 'Malgun Gothic' not found.\n",
            "WARNING:matplotlib.font_manager:findfont: Font family 'Malgun Gothic' not found.\n",
            "WARNING:matplotlib.font_manager:findfont: Font family 'Malgun Gothic' not found.\n",
            "/usr/local/lib/python3.12/dist-packages/IPython/core/events.py:89: UserWarning: Glyph 45936 (\\N{HANGUL SYLLABLE DE}) missing from font(s) DejaVu Sans.\n",
            "  func(*args, **kwargs)\n",
            "/usr/local/lib/python3.12/dist-packages/IPython/core/events.py:89: UserWarning: Glyph 51060 (\\N{HANGUL SYLLABLE I}) missing from font(s) DejaVu Sans.\n",
            "  func(*args, **kwargs)\n",
            "/usr/local/lib/python3.12/dist-packages/IPython/core/events.py:89: UserWarning: Glyph 53552 (\\N{HANGUL SYLLABLE TEO}) missing from font(s) DejaVu Sans.\n",
            "  func(*args, **kwargs)\n",
            "WARNING:matplotlib.font_manager:findfont: Font family 'Malgun Gothic' not found.\n",
            "WARNING:matplotlib.font_manager:findfont: Font family 'Malgun Gothic' not found.\n",
            "WARNING:matplotlib.font_manager:findfont: Font family 'Malgun Gothic' not found.\n",
            "WARNING:matplotlib.font_manager:findfont: Font family 'Malgun Gothic' not found.\n",
            "WARNING:matplotlib.font_manager:findfont: Font family 'Malgun Gothic' not found.\n",
            "WARNING:matplotlib.font_manager:findfont: Font family 'Malgun Gothic' not found.\n",
            "WARNING:matplotlib.font_manager:findfont: Font family 'Malgun Gothic' not found.\n",
            "WARNING:matplotlib.font_manager:findfont: Font family 'Malgun Gothic' not found.\n",
            "WARNING:matplotlib.font_manager:findfont: Font family 'Malgun Gothic' not found.\n",
            "WARNING:matplotlib.font_manager:findfont: Font family 'Malgun Gothic' not found.\n",
            "WARNING:matplotlib.font_manager:findfont: Font family 'Malgun Gothic' not found.\n",
            "WARNING:matplotlib.font_manager:findfont: Font family 'Malgun Gothic' not found.\n",
            "WARNING:matplotlib.font_manager:findfont: Font family 'Malgun Gothic' not found.\n",
            "WARNING:matplotlib.font_manager:findfont: Font family 'Malgun Gothic' not found.\n",
            "WARNING:matplotlib.font_manager:findfont: Font family 'Malgun Gothic' not found.\n",
            "WARNING:matplotlib.font_manager:findfont: Font family 'Malgun Gothic' not found.\n",
            "WARNING:matplotlib.font_manager:findfont: Font family 'Malgun Gothic' not found.\n",
            "WARNING:matplotlib.font_manager:findfont: Font family 'Malgun Gothic' not found.\n",
            "WARNING:matplotlib.font_manager:findfont: Font family 'Malgun Gothic' not found.\n",
            "WARNING:matplotlib.font_manager:findfont: Font family 'Malgun Gothic' not found.\n",
            "WARNING:matplotlib.font_manager:findfont: Font family 'Malgun Gothic' not found.\n",
            "WARNING:matplotlib.font_manager:findfont: Font family 'Malgun Gothic' not found.\n",
            "/usr/local/lib/python3.12/dist-packages/IPython/core/pylabtools.py:151: UserWarning: Glyph 44050 (\\N{HANGUL SYLLABLE GABS}) missing from font(s) DejaVu Sans.\n",
            "  fig.canvas.print_figure(bytes_io, **kw)\n",
            "WARNING:matplotlib.font_manager:findfont: Font family 'Malgun Gothic' not found.\n",
            "WARNING:matplotlib.font_manager:findfont: Font family 'Malgun Gothic' not found.\n",
            "/usr/local/lib/python3.12/dist-packages/IPython/core/pylabtools.py:151: UserWarning: Glyph 44036 (\\N{HANGUL SYLLABLE GAN}) missing from font(s) DejaVu Sans.\n",
            "  fig.canvas.print_figure(bytes_io, **kw)\n",
            "/usr/local/lib/python3.12/dist-packages/IPython/core/pylabtools.py:151: UserWarning: Glyph 45800 (\\N{HANGUL SYLLABLE DAN}) missing from font(s) DejaVu Sans.\n",
            "  fig.canvas.print_figure(bytes_io, **kw)\n",
            "/usr/local/lib/python3.12/dist-packages/IPython/core/pylabtools.py:151: UserWarning: Glyph 54620 (\\N{HANGUL SYLLABLE HAN}) missing from font(s) DejaVu Sans.\n",
            "  fig.canvas.print_figure(bytes_io, **kw)\n",
            "/usr/local/lib/python3.12/dist-packages/IPython/core/pylabtools.py:151: UserWarning: Glyph 44536 (\\N{HANGUL SYLLABLE GEU}) missing from font(s) DejaVu Sans.\n",
            "  fig.canvas.print_figure(bytes_io, **kw)\n",
            "/usr/local/lib/python3.12/dist-packages/IPython/core/pylabtools.py:151: UserWarning: Glyph 47000 (\\N{HANGUL SYLLABLE RAE}) missing from font(s) DejaVu Sans.\n",
            "  fig.canvas.print_figure(bytes_io, **kw)\n",
            "/usr/local/lib/python3.12/dist-packages/IPython/core/pylabtools.py:151: UserWarning: Glyph 54532 (\\N{HANGUL SYLLABLE PEU}) missing from font(s) DejaVu Sans.\n",
            "  fig.canvas.print_figure(bytes_io, **kw)\n",
            "/usr/local/lib/python3.12/dist-packages/IPython/core/pylabtools.py:151: UserWarning: Glyph 50696 (\\N{HANGUL SYLLABLE YE}) missing from font(s) DejaVu Sans.\n",
            "  fig.canvas.print_figure(bytes_io, **kw)\n",
            "/usr/local/lib/python3.12/dist-packages/IPython/core/pylabtools.py:151: UserWarning: Glyph 51228 (\\N{HANGUL SYLLABLE JE}) missing from font(s) DejaVu Sans.\n",
            "  fig.canvas.print_figure(bytes_io, **kw)\n",
            "WARNING:matplotlib.font_manager:findfont: Font family 'Malgun Gothic' not found.\n",
            "WARNING:matplotlib.font_manager:findfont: Font family 'Malgun Gothic' not found.\n",
            "WARNING:matplotlib.font_manager:findfont: Font family 'Malgun Gothic' not found.\n",
            "WARNING:matplotlib.font_manager:findfont: Font family 'Malgun Gothic' not found.\n",
            "WARNING:matplotlib.font_manager:findfont: Font family 'Malgun Gothic' not found.\n",
            "WARNING:matplotlib.font_manager:findfont: Font family 'Malgun Gothic' not found.\n",
            "WARNING:matplotlib.font_manager:findfont: Font family 'Malgun Gothic' not found.\n",
            "WARNING:matplotlib.font_manager:findfont: Font family 'Malgun Gothic' not found.\n",
            "WARNING:matplotlib.font_manager:findfont: Font family 'Malgun Gothic' not found.\n",
            "WARNING:matplotlib.font_manager:findfont: Font family 'Malgun Gothic' not found.\n",
            "WARNING:matplotlib.font_manager:findfont: Font family 'Malgun Gothic' not found.\n",
            "WARNING:matplotlib.font_manager:findfont: Font family 'Malgun Gothic' not found.\n",
            "WARNING:matplotlib.font_manager:findfont: Font family 'Malgun Gothic' not found.\n",
            "WARNING:matplotlib.font_manager:findfont: Font family 'Malgun Gothic' not found.\n",
            "WARNING:matplotlib.font_manager:findfont: Font family 'Malgun Gothic' not found.\n",
            "WARNING:matplotlib.font_manager:findfont: Font family 'Malgun Gothic' not found.\n",
            "WARNING:matplotlib.font_manager:findfont: Font family 'Malgun Gothic' not found.\n",
            "WARNING:matplotlib.font_manager:findfont: Font family 'Malgun Gothic' not found.\n",
            "WARNING:matplotlib.font_manager:findfont: Font family 'Malgun Gothic' not found.\n",
            "WARNING:matplotlib.font_manager:findfont: Font family 'Malgun Gothic' not found.\n",
            "WARNING:matplotlib.font_manager:findfont: Font family 'Malgun Gothic' not found.\n",
            "WARNING:matplotlib.font_manager:findfont: Font family 'Malgun Gothic' not found.\n",
            "WARNING:matplotlib.font_manager:findfont: Font family 'Malgun Gothic' not found.\n",
            "WARNING:matplotlib.font_manager:findfont: Font family 'Malgun Gothic' not found.\n",
            "WARNING:matplotlib.font_manager:findfont: Font family 'Malgun Gothic' not found.\n",
            "WARNING:matplotlib.font_manager:findfont: Font family 'Malgun Gothic' not found.\n",
            "WARNING:matplotlib.font_manager:findfont: Font family 'Malgun Gothic' not found.\n",
            "WARNING:matplotlib.font_manager:findfont: Font family 'Malgun Gothic' not found.\n",
            "WARNING:matplotlib.font_manager:findfont: Font family 'Malgun Gothic' not found.\n",
            "WARNING:matplotlib.font_manager:findfont: Font family 'Malgun Gothic' not found.\n",
            "WARNING:matplotlib.font_manager:findfont: Font family 'Malgun Gothic' not found.\n",
            "WARNING:matplotlib.font_manager:findfont: Font family 'Malgun Gothic' not found.\n",
            "WARNING:matplotlib.font_manager:findfont: Font family 'Malgun Gothic' not found.\n",
            "/usr/local/lib/python3.12/dist-packages/IPython/core/pylabtools.py:151: UserWarning: Glyph 45936 (\\N{HANGUL SYLLABLE DE}) missing from font(s) DejaVu Sans.\n",
            "  fig.canvas.print_figure(bytes_io, **kw)\n",
            "/usr/local/lib/python3.12/dist-packages/IPython/core/pylabtools.py:151: UserWarning: Glyph 51060 (\\N{HANGUL SYLLABLE I}) missing from font(s) DejaVu Sans.\n",
            "  fig.canvas.print_figure(bytes_io, **kw)\n",
            "/usr/local/lib/python3.12/dist-packages/IPython/core/pylabtools.py:151: UserWarning: Glyph 53552 (\\N{HANGUL SYLLABLE TEO}) missing from font(s) DejaVu Sans.\n",
            "  fig.canvas.print_figure(bytes_io, **kw)\n",
            "WARNING:matplotlib.font_manager:findfont: Font family 'Malgun Gothic' not found.\n",
            "WARNING:matplotlib.font_manager:findfont: Font family 'Malgun Gothic' not found.\n",
            "WARNING:matplotlib.font_manager:findfont: Font family 'Malgun Gothic' not found.\n",
            "WARNING:matplotlib.font_manager:findfont: Font family 'Malgun Gothic' not found.\n",
            "WARNING:matplotlib.font_manager:findfont: Font family 'Malgun Gothic' not found.\n"
          ]
        },
        {
          "output_type": "display_data",
          "data": {
            "text/plain": [
              "<Figure size 800x500 with 1 Axes>"
            ],
            "image/png": "[encoded data removed]"
          },
          "metadata": {}
        }
      ]
    },
    {
      "cell_type": "code",
      "source": [
        "import matplotlib.pyplot as plt\n",
        "# 한글 폰트 설정 (한글 깨짐 방지)\n",
        "plt.rcParams['font.family'] = 'Malgun Gothic' # Windows\n",
        "plt.rcParams['axes.unicode_minus'] = False\n",
        "# 간단한 그래프 그리기\n",
        "x = [1, 2, 3, 4, 5]\n",
        "y = [2, 4, 6, 8, 10]\n",
        "plt.figure(figsize=(8, 5))\n",
        "plt.plot(x, y, 'bo-', label='데이터')\n",
        "plt.title('간단한 그래프 예제')\n",
        "plt.xlabel('X 값')\n",
        "plt.ylabel('Y 값')\n",
        "plt.legend()\n",
        "plt.grid(True, alpha=0.3)\n",
        "plt.show()"
      ],
      "metadata": {
        "colab": {
          "base_uri": "https://localhost:8080/",
          "height": 1000
        },
        "id": "TPqA8AmgiogB",
        "outputId": "1326cdbe-6d8a-4242-abe9-cfc77fdd721e"
      },
      "execution_count": 20,
      "outputs": [
        {
          "output_type": "stream",
          "name": "stderr",
          "text": [
            "WARNING:matplotlib.font_manager:findfont: Font family 'Malgun Gothic' not found.\n",
            "WARNING:matplotlib.font_manager:findfont: Font family 'Malgun Gothic' not found.\n",
            "WARNING:matplotlib.font_manager:findfont: Font family 'Malgun Gothic' not found.\n",
            "WARNING:matplotlib.font_manager:findfont: Font family 'Malgun Gothic' not found.\n",
            "WARNING:matplotlib.font_manager:findfont: Font family 'Malgun Gothic' not found.\n",
            "WARNING:matplotlib.font_manager:findfont: Font family 'Malgun Gothic' not found.\n",
            "WARNING:matplotlib.font_manager:findfont: Font family 'Malgun Gothic' not found.\n",
            "WARNING:matplotlib.font_manager:findfont: Font family 'Malgun Gothic' not found.\n",
            "WARNING:matplotlib.font_manager:findfont: Font family 'Malgun Gothic' not found.\n",
            "WARNING:matplotlib.font_manager:findfont: Font family 'Malgun Gothic' not found.\n",
            "WARNING:matplotlib.font_manager:findfont: Font family 'Malgun Gothic' not found.\n",
            "/usr/local/lib/python3.12/dist-packages/IPython/core/pylabtools.py:151: UserWarning: Glyph 44050 (\\N{HANGUL SYLLABLE GABS}) missing from font(s) DejaVu Sans.\n",
            "  fig.canvas.print_figure(bytes_io, **kw)\n",
            "WARNING:matplotlib.font_manager:findfont: Font family 'Malgun Gothic' not found.\n",
            "WARNING:matplotlib.font_manager:findfont: Font family 'Malgun Gothic' not found.\n",
            "/usr/local/lib/python3.12/dist-packages/IPython/core/pylabtools.py:151: UserWarning: Glyph 44036 (\\N{HANGUL SYLLABLE GAN}) missing from font(s) DejaVu Sans.\n",
            "  fig.canvas.print_figure(bytes_io, **kw)\n",
            "/usr/local/lib/python3.12/dist-packages/IPython/core/pylabtools.py:151: UserWarning: Glyph 45800 (\\N{HANGUL SYLLABLE DAN}) missing from font(s) DejaVu Sans.\n",
            "  fig.canvas.print_figure(bytes_io, **kw)\n",
            "/usr/local/lib/python3.12/dist-packages/IPython/core/pylabtools.py:151: UserWarning: Glyph 54620 (\\N{HANGUL SYLLABLE HAN}) missing from font(s) DejaVu Sans.\n",
            "  fig.canvas.print_figure(bytes_io, **kw)\n",
            "/usr/local/lib/python3.12/dist-packages/IPython/core/pylabtools.py:151: UserWarning: Glyph 44536 (\\N{HANGUL SYLLABLE GEU}) missing from font(s) DejaVu Sans.\n",
            "  fig.canvas.print_figure(bytes_io, **kw)\n",
            "/usr/local/lib/python3.12/dist-packages/IPython/core/pylabtools.py:151: UserWarning: Glyph 47000 (\\N{HANGUL SYLLABLE RAE}) missing from font(s) DejaVu Sans.\n",
            "  fig.canvas.print_figure(bytes_io, **kw)\n",
            "/usr/local/lib/python3.12/dist-packages/IPython/core/pylabtools.py:151: UserWarning: Glyph 54532 (\\N{HANGUL SYLLABLE PEU}) missing from font(s) DejaVu Sans.\n",
            "  fig.canvas.print_figure(bytes_io, **kw)\n",
            "/usr/local/lib/python3.12/dist-packages/IPython/core/pylabtools.py:151: UserWarning: Glyph 50696 (\\N{HANGUL SYLLABLE YE}) missing from font(s) DejaVu Sans.\n",
            "  fig.canvas.print_figure(bytes_io, **kw)\n",
            "/usr/local/lib/python3.12/dist-packages/IPython/core/pylabtools.py:151: UserWarning: Glyph 51228 (\\N{HANGUL SYLLABLE JE}) missing from font(s) DejaVu Sans.\n",
            "  fig.canvas.print_figure(bytes_io, **kw)\n",
            "WARNING:matplotlib.font_manager:findfont: Font family 'Malgun Gothic' not found.\n",
            "WARNING:matplotlib.font_manager:findfont: Font family 'Malgun Gothic' not found.\n",
            "WARNING:matplotlib.font_manager:findfont: Font family 'Malgun Gothic' not found.\n",
            "WARNING:matplotlib.font_manager:findfont: Font family 'Malgun Gothic' not found.\n",
            "WARNING:matplotlib.font_manager:findfont: Font family 'Malgun Gothic' not found.\n",
            "WARNING:matplotlib.font_manager:findfont: Font family 'Malgun Gothic' not found.\n",
            "WARNING:matplotlib.font_manager:findfont: Font family 'Malgun Gothic' not found.\n",
            "WARNING:matplotlib.font_manager:findfont: Font family 'Malgun Gothic' not found.\n",
            "WARNING:matplotlib.font_manager:findfont: Font family 'Malgun Gothic' not found.\n",
            "WARNING:matplotlib.font_manager:findfont: Font family 'Malgun Gothic' not found.\n",
            "WARNING:matplotlib.font_manager:findfont: Font family 'Malgun Gothic' not found.\n",
            "WARNING:matplotlib.font_manager:findfont: Font family 'Malgun Gothic' not found.\n",
            "/usr/local/lib/python3.12/dist-packages/IPython/core/pylabtools.py:151: UserWarning: Glyph 45936 (\\N{HANGUL SYLLABLE DE}) missing from font(s) DejaVu Sans.\n",
            "  fig.canvas.print_figure(bytes_io, **kw)\n",
            "/usr/local/lib/python3.12/dist-packages/IPython/core/pylabtools.py:151: UserWarning: Glyph 51060 (\\N{HANGUL SYLLABLE I}) missing from font(s) DejaVu Sans.\n",
            "  fig.canvas.print_figure(bytes_io, **kw)\n",
            "/usr/local/lib/python3.12/dist-packages/IPython/core/pylabtools.py:151: UserWarning: Glyph 53552 (\\N{HANGUL SYLLABLE TEO}) missing from font(s) DejaVu Sans.\n",
            "  fig.canvas.print_figure(bytes_io, **kw)\n",
            "WARNING:matplotlib.font_manager:findfont: Font family 'Malgun Gothic' not found.\n",
            "WARNING:matplotlib.font_manager:findfont: Font family 'Malgun Gothic' not found.\n",
            "WARNING:matplotlib.font_manager:findfont: Font family 'Malgun Gothic' not found.\n",
            "WARNING:matplotlib.font_manager:findfont: Font family 'Malgun Gothic' not found.\n",
            "WARNING:matplotlib.font_manager:findfont: Font family 'Malgun Gothic' not found.\n",
            "WARNING:matplotlib.font_manager:findfont: Font family 'Malgun Gothic' not found.\n",
            "WARNING:matplotlib.font_manager:findfont: Font family 'Malgun Gothic' not found.\n",
            "WARNING:matplotlib.font_manager:findfont: Font family 'Malgun Gothic' not found.\n",
            "WARNING:matplotlib.font_manager:findfont: Font family 'Malgun Gothic' not found.\n",
            "WARNING:matplotlib.font_manager:findfont: Font family 'Malgun Gothic' not found.\n",
            "WARNING:matplotlib.font_manager:findfont: Font family 'Malgun Gothic' not found.\n",
            "WARNING:matplotlib.font_manager:findfont: Font family 'Malgun Gothic' not found.\n",
            "WARNING:matplotlib.font_manager:findfont: Font family 'Malgun Gothic' not found.\n",
            "WARNING:matplotlib.font_manager:findfont: Font family 'Malgun Gothic' not found.\n",
            "WARNING:matplotlib.font_manager:findfont: Font family 'Malgun Gothic' not found.\n",
            "WARNING:matplotlib.font_manager:findfont: Font family 'Malgun Gothic' not found.\n",
            "WARNING:matplotlib.font_manager:findfont: Font family 'Malgun Gothic' not found.\n",
            "WARNING:matplotlib.font_manager:findfont: Font family 'Malgun Gothic' not found.\n",
            "WARNING:matplotlib.font_manager:findfont: Font family 'Malgun Gothic' not found.\n",
            "WARNING:matplotlib.font_manager:findfont: Font family 'Malgun Gothic' not found.\n",
            "WARNING:matplotlib.font_manager:findfont: Font family 'Malgun Gothic' not found.\n",
            "WARNING:matplotlib.font_manager:findfont: Font family 'Malgun Gothic' not found.\n",
            "WARNING:matplotlib.font_manager:findfont: Font family 'Malgun Gothic' not found.\n",
            "WARNING:matplotlib.font_manager:findfont: Font family 'Malgun Gothic' not found.\n",
            "WARNING:matplotlib.font_manager:findfont: Font family 'Malgun Gothic' not found.\n",
            "WARNING:matplotlib.font_manager:findfont: Font family 'Malgun Gothic' not found.\n",
            "WARNING:matplotlib.font_manager:findfont: Font family 'Malgun Gothic' not found.\n",
            "WARNING:matplotlib.font_manager:findfont: Font family 'Malgun Gothic' not found.\n",
            "WARNING:matplotlib.font_manager:findfont: Font family 'Malgun Gothic' not found.\n",
            "WARNING:matplotlib.font_manager:findfont: Font family 'Malgun Gothic' not found.\n",
            "WARNING:matplotlib.font_manager:findfont: Font family 'Malgun Gothic' not found.\n",
            "WARNING:matplotlib.font_manager:findfont: Font family 'Malgun Gothic' not found.\n",
            "WARNING:matplotlib.font_manager:findfont: Font family 'Malgun Gothic' not found.\n",
            "WARNING:matplotlib.font_manager:findfont: Font family 'Malgun Gothic' not found.\n",
            "WARNING:matplotlib.font_manager:findfont: Font family 'Malgun Gothic' not found.\n",
            "WARNING:matplotlib.font_manager:findfont: Font family 'Malgun Gothic' not found.\n",
            "WARNING:matplotlib.font_manager:findfont: Font family 'Malgun Gothic' not found.\n",
            "WARNING:matplotlib.font_manager:findfont: Font family 'Malgun Gothic' not found.\n",
            "WARNING:matplotlib.font_manager:findfont: Font family 'Malgun Gothic' not found.\n",
            "WARNING:matplotlib.font_manager:findfont: Font family 'Malgun Gothic' not found.\n",
            "WARNING:matplotlib.font_manager:findfont: Font family 'Malgun Gothic' not found.\n",
            "WARNING:matplotlib.font_manager:findfont: Font family 'Malgun Gothic' not found.\n",
            "WARNING:matplotlib.font_manager:findfont: Font family 'Malgun Gothic' not found.\n",
            "WARNING:matplotlib.font_manager:findfont: Font family 'Malgun Gothic' not found.\n",
            "WARNING:matplotlib.font_manager:findfont: Font family 'Malgun Gothic' not found.\n",
            "WARNING:matplotlib.font_manager:findfont: Font family 'Malgun Gothic' not found.\n",
            "WARNING:matplotlib.font_manager:findfont: Font family 'Malgun Gothic' not found.\n",
            "WARNING:matplotlib.font_manager:findfont: Font family 'Malgun Gothic' not found.\n",
            "WARNING:matplotlib.font_manager:findfont: Font family 'Malgun Gothic' not found.\n",
            "WARNING:matplotlib.font_manager:findfont: Font family 'Malgun Gothic' not found.\n",
            "WARNING:matplotlib.font_manager:findfont: Font family 'Malgun Gothic' not found.\n",
            "WARNING:matplotlib.font_manager:findfont: Font family 'Malgun Gothic' not found.\n",
            "WARNING:matplotlib.font_manager:findfont: Font family 'Malgun Gothic' not found.\n",
            "WARNING:matplotlib.font_manager:findfont: Font family 'Malgun Gothic' not found.\n",
            "WARNING:matplotlib.font_manager:findfont: Font family 'Malgun Gothic' not found.\n",
            "WARNING:matplotlib.font_manager:findfont: Font family 'Malgun Gothic' not found.\n"
          ]
        },
        {
          "output_type": "display_data",
          "data": {
            "text/plain": [
              "<Figure size 800x500 with 1 Axes>"
            ],
            "image/png": "[encoded data removed]"
          },
          "metadata": {}
        }
      ]
    },
    {
      "cell_type": "code",
      "source": [
        "import numpy as np"
      ],
      "metadata": {
        "id": "5reGgE4XitYo"
      },
      "execution_count": 21,
      "outputs": []
    },
    {
      "cell_type": "code",
      "source": [
        "import matplotlib.pyplot as plt"
      ],
      "metadata": {
        "id": "wCQImJLdjWMg"
      },
      "execution_count": 22,
      "outputs": []
    },
    {
      "cell_type": "code",
      "source": [
        "from sklearn.linear_model import LinearRegression"
      ],
      "metadata": {
        "id": "YbJ02tq8jYAY"
      },
      "execution_count": 23,
      "outputs": []
    },
    {
      "cell_type": "code",
      "source": [
        "공부시간 = np.array([1, 2, 3, 4, 5, 6, 7, 8]).reshape(-1, 1)"
      ],
      "metadata": {
        "id": "3kBAAYA4jabI"
      },
      "execution_count": 24,
      "outputs": []
    },
    {
      "cell_type": "code",
      "source": [
        "시험점수 = np.array([50, 55, 65, 70, 75, 85, 90, 95])"
      ],
      "metadata": {
        "id": "vaoq0OWBjtAY"
      },
      "execution_count": 25,
      "outputs": []
    },
    {
      "cell_type": "code",
      "source": [
        "for i in range(len(공부시간)):\n",
        "  print(f\"공부시간: {공부시간[i][0]}시간 → 점수: {시험점수[i]}점\")"
      ],
      "metadata": {
        "colab": {
          "base_uri": "https://localhost:8080/"
        },
        "id": "zyI3is08jvEg",
        "outputId": "c66cac83-efca-4b71-b542-5fd975d34fab"
      },
      "execution_count": 26,
      "outputs": [
        {
          "output_type": "stream",
          "name": "stdout",
          "text": [
            "공부시간: 1시간 → 점수: 50점\n",
            "공부시간: 2시간 → 점수: 55점\n",
            "공부시간: 3시간 → 점수: 65점\n",
            "공부시간: 4시간 → 점수: 70점\n",
            "공부시간: 5시간 → 점수: 75점\n",
            "공부시간: 6시간 → 점수: 85점\n",
            "공부시간: 7시간 → 점수: 90점\n",
            "공부시간: 8시간 → 점수: 95점\n"
          ]
        }
      ]
    },
    {
      "cell_type": "code",
      "source": [
        "model = LinearRegression()\n",
        "model.fit(공부시간, 시험점수)"
      ],
      "metadata": {
        "colab": {
          "base_uri": "https://localhost:8080/",
          "height": 80
        },
        "id": "ZOXCbnOHkSIf",
        "outputId": "76e18de3-eeb4-45ed-b248-3a24f71083c6"
      },
      "execution_count": 27,
      "outputs": [
        {
          "output_type": "execute_result",
          "data": {
            "text/plain": [
              "LinearRegression()"
            ],
            "text/html": [
              "<style>#sk-container-id-1 {\n",
              "  /* Definition of color scheme common for light and dark mode */\n",
              "  --sklearn-color-text: #000;\n",
              "  --sklearn-color-text-muted: #666;\n",
              "  --sklearn-color-line: gray;\n",
              "  /* Definition of color scheme for unfitted estimators */\n",
              "  --sklearn-color-unfitted-level-0: #fff5e6;\n",
              "  --sklearn-color-unfitted-level-1: #f6e4d2;\n",
              "  --sklearn-color-unfitted-level-2: #ffe0b3;\n",
              "  --sklearn-color-unfitted-level-3: chocolate;\n",
              "  /* Definition of color scheme for fitted estimators */\n",
              "  --sklearn-color-fitted-level-0: #f0f8ff;\n",
              "  --sklearn-color-fitted-level-1: #d4ebff;\n",
              "  --sklearn-color-fitted-level-2: #b3dbfd;\n",
              "  --sklearn-color-fitted-level-3: cornflowerblue;\n",
              "\n",
              "  /* Specific color for light theme */\n",
              "  --sklearn-color-text-on-default-background: var(--sg-text-color, var(--theme-code-foreground, var(--jp-content-font-color1, black)));\n",
              "  --sklearn-color-background: var(--sg-background-color, var(--theme-background, var(--jp-layout-color0, white)));\n",
              "  --sklearn-color-border-box: var(--sg-text-color, var(--theme-code-foreground, var(--jp-content-font-color1, black)));\n",
              "  --sklearn-color-icon: #696969;\n",
              "\n",
              "  @media (prefers-color-scheme: dark) {\n",
              "    /* Redefinition of color scheme for dark theme */\n",
              "    --sklearn-color-text-on-default-background: var(--sg-text-color, var(--theme-code-foreground, var(--jp-content-font-color1, white)));\n",
              "    --sklearn-color-background: var(--sg-background-color, var(--theme-background, var(--jp-layout-color0, #111)));\n",
              "    --sklearn-color-border-box: var(--sg-text-color, var(--theme-code-foreground, var(--jp-content-font-color1, white)));\n",
              "    --sklearn-color-icon: #878787;\n",
              "  }\n",
              "}\n",
              "\n",
              "#sk-container-id-1 {\n",
              "  color: var(--sklearn-color-text);\n",
              "}\n",
              "\n",
              "#sk-container-id-1 pre {\n",
              "  padding: 0;\n",
              "}\n",
              "\n",
              "#sk-container-id-1 input.sk-hidden--visually {\n",
              "  border: 0;\n",
              "  clip: rect(1px 1px 1px 1px);\n",
              "  clip: rect(1px, 1px, 1px, 1px);\n",
              "  height: 1px;\n",
              "  margin: -1px;\n",
              "  overflow: hidden;\n",
              "  padding: 0;\n",
              "  position: absolute;\n",
              "  width: 1px;\n",
              "}\n",
              "\n",
              "#sk-container-id-1 div.sk-dashed-wrapped {\n",
              "  border: 1px dashed var(--sklearn-color-line);\n",
              "  margin: 0 0.4em 0.5em 0.4em;\n",
              "  box-sizing: border-box;\n",
              "  padding-bottom: 0.4em;\n",
              "  background-color: var(--sklearn-color-background);\n",
              "}\n",
              "\n",
              "#sk-container-id-1 div.sk-container {\n",
              "  /* jupyter's `normalize.less` sets `[hidden] { display: none; }`\n",
              "     but bootstrap.min.css set `[hidden] { display: none !important; }`\n",
              "     so we also need the `!important` here to be able to override the\n",
              "     default hidden behavior on the sphinx rendered scikit-learn.org.\n",
              "     See: https://github.com/scikit-learn/scikit-learn/issues/21755 */\n",
              "  display: inline-block !important;\n",
              "  position: relative;\n",
              "}\n",
              "\n",
              "#sk-container-id-1 div.sk-text-repr-fallback {\n",
              "  display: none;\n",
              "}\n",
              "\n",
              "div.sk-parallel-item,\n",
              "div.sk-serial,\n",
              "div.sk-item {\n",
              "  /* draw centered vertical line to link estimators */\n",
              "  background-image: linear-gradient(var(--sklearn-color-text-on-default-background), var(--sklearn-color-text-on-default-background));\n",
              "  background-size: 2px 100%;\n",
              "  background-repeat: no-repeat;\n",
              "  background-position: center center;\n",
              "}\n",
              "\n",
              "/* Parallel-specific style estimator block */\n",
              "\n",
              "#sk-container-id-1 div.sk-parallel-item::after {\n",
              "  content: \"\";\n",
              "  width: 100%;\n",
              "  border-bottom: 2px solid var(--sklearn-color-text-on-default-background);\n",
              "  flex-grow: 1;\n",
              "}\n",
              "\n",
              "#sk-container-id-1 div.sk-parallel {\n",
              "  display: flex;\n",
              "  align-items: stretch;\n",
              "  justify-content: center;\n",
              "  background-color: var(--sklearn-color-background);\n",
              "  position: relative;\n",
              "}\n",
              "\n",
              "#sk-container-id-1 div.sk-parallel-item {\n",
              "  display: flex;\n",
              "  flex-direction: column;\n",
              "}\n",
              "\n",
              "#sk-container-id-1 div.sk-parallel-item:first-child::after {\n",
              "  align-self: flex-end;\n",
              "  width: 50%;\n",
              "}\n",
              "\n",
              "#sk-container-id-1 div.sk-parallel-item:last-child::after {\n",
              "  align-self: flex-start;\n",
              "  width: 50%;\n",
              "}\n",
              "\n",
              "#sk-container-id-1 div.sk-parallel-item:only-child::after {\n",
              "  width: 0;\n",
              "}\n",
              "\n",
              "/* Serial-specific style estimator block */\n",
              "\n",
              "#sk-container-id-1 div.sk-serial {\n",
              "  display: flex;\n",
              "  flex-direction: column;\n",
              "  align-items: center;\n",
              "  background-color: var(--sklearn-color-background);\n",
              "  padding-right: 1em;\n",
              "  padding-left: 1em;\n",
              "}\n",
              "\n",
              "\n",
              "/* Toggleable style: style used for estimator/Pipeline/ColumnTransformer box that is\n",
              "clickable and can be expanded/collapsed.\n",
              "- Pipeline and ColumnTransformer use this feature and define the default style\n",
              "- Estimators will overwrite some part of the style using the `sk-estimator` class\n",
              "*/\n",
              "\n",
              "/* Pipeline and ColumnTransformer style (default) */\n",
              "\n",
              "#sk-container-id-1 div.sk-toggleable {\n",
              "  /* Default theme specific background. It is overwritten whether we have a\n",
              "  specific estimator or a Pipeline/ColumnTransformer */\n",
              "  background-color: var(--sklearn-color-background);\n",
              "}\n",
              "\n",
              "/* Toggleable label */\n",
              "#sk-container-id-1 label.sk-toggleable__label {\n",
              "  cursor: pointer;\n",
              "  display: flex;\n",
              "  width: 100%;\n",
              "  margin-bottom: 0;\n",
              "  padding: 0.5em;\n",
              "  box-sizing: border-box;\n",
              "  text-align: center;\n",
              "  align-items: start;\n",
              "  justify-content: space-between;\n",
              "  gap: 0.5em;\n",
              "}\n",
              "\n",
              "#sk-container-id-1 label.sk-toggleable__label .caption {\n",
              "  font-size: 0.6rem;\n",
              "  font-weight: lighter;\n",
              "  color: var(--sklearn-color-text-muted);\n",
              "}\n",
              "\n",
              "#sk-container-id-1 label.sk-toggleable__label-arrow:before {\n",
              "  /* Arrow on the left of the label */\n",
              "  content: \"▸\";\n",
              "  float: left;\n",
              "  margin-right: 0.25em;\n",
              "  color: var(--sklearn-color-icon);\n",
              "}\n",
              "\n",
              "#sk-container-id-1 label.sk-toggleable__label-arrow:hover:before {\n",
              "  color: var(--sklearn-color-text);\n",
              "}\n",
              "\n",
              "/* Toggleable content - dropdown */\n",
              "\n",
              "#sk-container-id-1 div.sk-toggleable__content {\n",
              "  max-height: 0;\n",
              "  max-width: 0;\n",
              "  overflow: hidden;\n",
              "  text-align: left;\n",
              "  /* unfitted */\n",
              "  background-color: var(--sklearn-color-unfitted-level-0);\n",
              "}\n",
              "\n",
              "#sk-container-id-1 div.sk-toggleable__content.fitted {\n",
              "  /* fitted */\n",
              "  background-color: var(--sklearn-color-fitted-level-0);\n",
              "}\n",
              "\n",
              "#sk-container-id-1 div.sk-toggleable__content pre {\n",
              "  margin: 0.2em;\n",
              "  border-radius: 0.25em;\n",
              "  color: var(--sklearn-color-text);\n",
              "  /* unfitted */\n",
              "  background-color: var(--sklearn-color-unfitted-level-0);\n",
              "}\n",
              "\n",
              "#sk-container-id-1 div.sk-toggleable__content.fitted pre {\n",
              "  /* unfitted */\n",
              "  background-color: var(--sklearn-color-fitted-level-0);\n",
              "}\n",
              "\n",
              "#sk-container-id-1 input.sk-toggleable__control:checked~div.sk-toggleable__content {\n",
              "  /* Expand drop-down */\n",
              "  max-height: 200px;\n",
              "  max-width: 100%;\n",
              "  overflow: auto;\n",
              "}\n",
              "\n",
              "#sk-container-id-1 input.sk-toggleable__control:checked~label.sk-toggleable__label-arrow:before {\n",
              "  content: \"▾\";\n",
              "}\n",
              "\n",
              "/* Pipeline/ColumnTransformer-specific style */\n",
              "\n",
              "#sk-container-id-1 div.sk-label input.sk-toggleable__control:checked~label.sk-toggleable__label {\n",
              "  color: var(--sklearn-color-text);\n",
              "  background-color: var(--sklearn-color-unfitted-level-2);\n",
              "}\n",
              "\n",
              "#sk-container-id-1 div.sk-label.fitted input.sk-toggleable__control:checked~label.sk-toggleable__label {\n",
              "  background-color: var(--sklearn-color-fitted-level-2);\n",
              "}\n",
              "\n",
              "/* Estimator-specific style */\n",
              "\n",
              "/* Colorize estimator box */\n",
              "#sk-container-id-1 div.sk-estimator input.sk-toggleable__control:checked~label.sk-toggleable__label {\n",
              "  /* unfitted */\n",
              "  background-color: var(--sklearn-color-unfitted-level-2);\n",
              "}\n",
              "\n",
              "#sk-container-id-1 div.sk-estimator.fitted input.sk-toggleable__control:checked~label.sk-toggleable__label {\n",
              "  /* fitted */\n",
              "  background-color: var(--sklearn-color-fitted-level-2);\n",
              "}\n",
              "\n",
              "#sk-container-id-1 div.sk-label label.sk-toggleable__label,\n",
              "#sk-container-id-1 div.sk-label label {\n",
              "  /* The background is the default theme color */\n",
              "  color: var(--sklearn-color-text-on-default-background);\n",
              "}\n",
              "\n",
              "/* On hover, darken the color of the background */\n",
              "#sk-container-id-1 div.sk-label:hover label.sk-toggleable__label {\n",
              "  color: var(--sklearn-color-text);\n",
              "  background-color: var(--sklearn-color-unfitted-level-2);\n",
              "}\n",
              "\n",
              "/* Label box, darken color on hover, fitted */\n",
              "#sk-container-id-1 div.sk-label.fitted:hover label.sk-toggleable__label.fitted {\n",
              "  color: var(--sklearn-color-text);\n",
              "  background-color: var(--sklearn-color-fitted-level-2);\n",
              "}\n",
              "\n",
              "/* Estimator label */\n",
              "\n",
              "#sk-container-id-1 div.sk-label label {\n",
              "  font-family: monospace;\n",
              "  font-weight: bold;\n",
              "  display: inline-block;\n",
              "  line-height: 1.2em;\n",
              "}\n",
              "\n",
              "#sk-container-id-1 div.sk-label-container {\n",
              "  text-align: center;\n",
              "}\n",
              "\n",
              "/* Estimator-specific */\n",
              "#sk-container-id-1 div.sk-estimator {\n",
              "  font-family: monospace;\n",
              "  border: 1px dotted var(--sklearn-color-border-box);\n",
              "  border-radius: 0.25em;\n",
              "  box-sizing: border-box;\n",
              "  margin-bottom: 0.5em;\n",
              "  /* unfitted */\n",
              "  background-color: var(--sklearn-color-unfitted-level-0);\n",
              "}\n",
              "\n",
              "#sk-container-id-1 div.sk-estimator.fitted {\n",
              "  /* fitted */\n",
              "  background-color: var(--sklearn-color-fitted-level-0);\n",
              "}\n",
              "\n",
              "/* on hover */\n",
              "#sk-container-id-1 div.sk-estimator:hover {\n",
              "  /* unfitted */\n",
              "  background-color: var(--sklearn-color-unfitted-level-2);\n",
              "}\n",
              "\n",
              "#sk-container-id-1 div.sk-estimator.fitted:hover {\n",
              "  /* fitted */\n",
              "  background-color: var(--sklearn-color-fitted-level-2);\n",
              "}\n",
              "\n",
              "/* Specification for estimator info (e.g. \"i\" and \"?\") */\n",
              "\n",
              "/* Common style for \"i\" and \"?\" */\n",
              "\n",
              ".sk-estimator-doc-link,\n",
              "a:link.sk-estimator-doc-link,\n",
              "a:visited.sk-estimator-doc-link {\n",
              "  float: right;\n",
              "  font-size: smaller;\n",
              "  line-height: 1em;\n",
              "  font-family: monospace;\n",
              "  background-color: var(--sklearn-color-background);\n",
              "  border-radius: 1em;\n",
              "  height: 1em;\n",
              "  width: 1em;\n",
              "  text-decoration: none !important;\n",
              "  margin-left: 0.5em;\n",
              "  text-align: center;\n",
              "  /* unfitted */\n",
              "  border: var(--sklearn-color-unfitted-level-1) 1pt solid;\n",
              "  color: var(--sklearn-color-unfitted-level-1);\n",
              "}\n",
              "\n",
              ".sk-estimator-doc-link.fitted,\n",
              "a:link.sk-estimator-doc-link.fitted,\n",
              "a:visited.sk-estimator-doc-link.fitted {\n",
              "  /* fitted */\n",
              "  border: var(--sklearn-color-fitted-level-1) 1pt solid;\n",
              "  color: var(--sklearn-color-fitted-level-1);\n",
              "}\n",
              "\n",
              "/* On hover */\n",
              "div.sk-estimator:hover .sk-estimator-doc-link:hover,\n",
              ".sk-estimator-doc-link:hover,\n",
              "div.sk-label-container:hover .sk-estimator-doc-link:hover,\n",
              ".sk-estimator-doc-link:hover {\n",
              "  /* unfitted */\n",
              "  background-color: var(--sklearn-color-unfitted-level-3);\n",
              "  color: var(--sklearn-color-background);\n",
              "  text-decoration: none;\n",
              "}\n",
              "\n",
              "div.sk-estimator.fitted:hover .sk-estimator-doc-link.fitted:hover,\n",
              ".sk-estimator-doc-link.fitted:hover,\n",
              "div.sk-label-container:hover .sk-estimator-doc-link.fitted:hover,\n",
              ".sk-estimator-doc-link.fitted:hover {\n",
              "  /* fitted */\n",
              "  background-color: var(--sklearn-color-fitted-level-3);\n",
              "  color: var(--sklearn-color-background);\n",
              "  text-decoration: none;\n",
              "}\n",
              "\n",
              "/* Span, style for the box shown on hovering the info icon */\n",
              ".sk-estimator-doc-link span {\n",
              "  display: none;\n",
              "  z-index: 9999;\n",
              "  position: relative;\n",
              "  font-weight: normal;\n",
              "  right: .2ex;\n",
              "  padding: .5ex;\n",
              "  margin: .5ex;\n",
              "  width: min-content;\n",
              "  min-width: 20ex;\n",
              "  max-width: 50ex;\n",
              "  color: var(--sklearn-color-text);\n",
              "  box-shadow: 2pt 2pt 4pt #999;\n",
              "  /* unfitted */\n",
              "  background: var(--sklearn-color-unfitted-level-0);\n",
              "  border: .5pt solid var(--sklearn-color-unfitted-level-3);\n",
              "}\n",
              "\n",
              ".sk-estimator-doc-link.fitted span {\n",
              "  /* fitted */\n",
              "  background: var(--sklearn-color-fitted-level-0);\n",
              "  border: var(--sklearn-color-fitted-level-3);\n",
              "}\n",
              "\n",
              ".sk-estimator-doc-link:hover span {\n",
              "  display: block;\n",
              "}\n",
              "\n",
              "/* \"?\"-specific style due to the `<a>` HTML tag */\n",
              "\n",
              "#sk-container-id-1 a.estimator_doc_link {\n",
              "  float: right;\n",
              "  font-size: 1rem;\n",
              "  line-height: 1em;\n",
              "  font-family: monospace;\n",
              "  background-color: var(--sklearn-color-background);\n",
              "  border-radius: 1rem;\n",
              "  height: 1rem;\n",
              "  width: 1rem;\n",
              "  text-decoration: none;\n",
              "  /* unfitted */\n",
              "  color: var(--sklearn-color-unfitted-level-1);\n",
              "  border: var(--sklearn-color-unfitted-level-1) 1pt solid;\n",
              "}\n",
              "\n",
              "#sk-container-id-1 a.estimator_doc_link.fitted {\n",
              "  /* fitted */\n",
              "  border: var(--sklearn-color-fitted-level-1) 1pt solid;\n",
              "  color: var(--sklearn-color-fitted-level-1);\n",
              "}\n",
              "\n",
              "/* On hover */\n",
              "#sk-container-id-1 a.estimator_doc_link:hover {\n",
              "  /* unfitted */\n",
              "  background-color: var(--sklearn-color-unfitted-level-3);\n",
              "  color: var(--sklearn-color-background);\n",
              "  text-decoration: none;\n",
              "}\n",
              "\n",
              "#sk-container-id-1 a.estimator_doc_link.fitted:hover {\n",
              "  /* fitted */\n",
              "  background-color: var(--sklearn-color-fitted-level-3);\n",
              "}\n",
              "</style><div id=\"sk-container-id-1\" class=\"sk-top-container\"><div class=\"sk-text-repr-fallback\"><pre>LinearRegression()</pre><b>In a Jupyter environment, please rerun this cell to show the HTML representation or trust the notebook. <br />On GitHub, the HTML representation is unable to render, please try loading this page with nbviewer.org.</b></div><div class=\"sk-container\" hidden><div class=\"sk-item\"><div class=\"sk-estimator fitted sk-toggleable\"><input class=\"sk-toggleable__control sk-hidden--visually\" id=\"sk-estimator-id-1\" type=\"checkbox\" checked><label for=\"sk-estimator-id-1\" class=\"sk-toggleable__label fitted sk-toggleable__label-arrow\"><div><div>LinearRegression</div></div><div><a class=\"sk-estimator-doc-link fitted\" rel=\"noreferrer\" target=\"_blank\" href=\"https://scikit-learn.org/1.6/modules/generated/sklearn.linear_model.LinearRegression.html\">?<span>Documentation for LinearRegression</span></a><span class=\"sk-estimator-doc-link fitted\">i<span>Fitted</span></span></div></label><div class=\"sk-toggleable__content fitted\"><pre>LinearRegression()</pre></div> </div></div></div></div>"
            ]
          },
          "metadata": {},
          "execution_count": 27
        }
      ]
    },
    {
      "cell_type": "code",
      "source": [
        "새로운_시간 = np.array([[6.5]])\n",
        "예측_점수 = model.predict(새로운_시간)\n"
      ],
      "metadata": {
        "id": "tCQtKjmJknn_"
      },
      "execution_count": 29,
      "outputs": []
    },
    {
      "cell_type": "code",
      "source": [
        "예측_점수"
      ],
      "metadata": {
        "colab": {
          "base_uri": "https://localhost:8080/"
        },
        "id": "CPx0NN-flBB-",
        "outputId": "45314ad4-e6e9-4839-9d18-923718619dbe"
      },
      "execution_count": 30,
      "outputs": [
        {
          "output_type": "execute_result",
          "data": {
            "text/plain": [
              "array([86.33928571])"
            ]
          },
          "metadata": {},
          "execution_count": 30
        }
      ]
    },
    {
      "cell_type": "code",
      "source": [],
      "metadata": {
        "id": "UpNA1QD9lMUd"
      },
      "execution_count": null,
      "outputs": []
    }
  ]
}
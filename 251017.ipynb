{
  "nbformat": 4,
  "nbformat_minor": 0,
  "metadata": {
    "colab": {
      "provenance": []
    },
    "kernelspec": {
      "name": "python3",
      "display_name": "Python 3"
    },
    "language_info": {
      "name": "python"
    }
  },
  "cells": [
    {
      "cell_type": "code",
      "execution_count": 11,
      "metadata": {
        "id": "JBImicVulBq8"
      },
      "outputs": [],
      "source": [
        "def bmi_in(w, h):\n",
        "  bmi = w / h ** 2\n",
        "  return bmi\n",
        "\n",
        "# 사용 예시:\n",
        "# 체중 70kg, 신장 1.75m 인 경우\n",
        "# calculated_bmi = bmi(70, 1.75)\n",
        "# print(f\"BMI 지수: {calculated_bmi:.2f}\")\n"
      ]
    },
    {
      "cell_type": "code",
      "source": [
        "h=135\n",
        "w=43.01\n",
        "bmi=bmi_in(w, h)\n",
        "print(bmi)"
      ],
      "metadata": {
        "colab": {
          "base_uri": "https://localhost:8080/"
        },
        "id": "2_ZtugVCvMl5",
        "outputId": "184d75ff-473c-4c41-9f97-bbc55afbb9f9"
      },
      "execution_count": 13,
      "outputs": [
        {
          "output_type": "stream",
          "name": "stdout",
          "text": [
            "0.0023599451303155006\n"
          ]
        }
      ]
    },
    {
      "cell_type": "code",
      "source": [
        "weight = float(input())\n",
        "height = float(input())\n",
        "\n",
        "\n",
        "bmi_value = weight / (height ** 2)\n",
        "\n",
        "return(round(bmi_value, 2))\n"
      ],
      "metadata": {
        "id": "E0npCjUX1xwI"
      },
      "execution_count": 29,
      "outputs": []
    },
    {
      "cell_type": "code",
      "source": [
        "def bmi_in(w, h):\n",
        "  bmi = w / h ** 2\n",
        "  return bmi"
      ],
      "metadata": {
        "id": "R8Zw2SUM2j6f"
      },
      "execution_count": 27,
      "outputs": []
    },
    {
      "cell_type": "code",
      "source": [
        "def calculate_bmi(weight, height):\n",
        "\n",
        "  bmi_value = weight / (height ** 2)\n",
        "  return bmi_value"
      ],
      "metadata": {
        "id": "F67rBTpH3fvw"
      },
      "execution_count": 33,
      "outputs": []
    },
    {
      "cell_type": "code",
      "source": [
        "  weight=58\n",
        "  height=1.58\n",
        "  print(bmi_value)"
      ],
      "metadata": {
        "colab": {
          "base_uri": "https://localhost:8080/"
        },
        "id": "OrR4G29q36of",
        "outputId": "e93a3f92-ed9d-4fb1-b583-fee81bd2c2f6"
      },
      "execution_count": 34,
      "outputs": [
        {
          "output_type": "stream",
          "name": "stdout",
          "text": [
            "18.02595737862522\n"
          ]
        }
      ]
    },
    {
      "cell_type": "code",
      "source": [
        "email = \"user@example.com\"\n",
        "username, domain = email.split(\"@\")\n",
        "print(f\"사용자명: {username}, 도메인: {domain}\")"
      ],
      "metadata": {
        "colab": {
          "base_uri": "https://localhost:8080/"
        },
        "id": "BpPGLnju5agv",
        "outputId": "723b659c-2dfc-4c44-a91e-65459c118692"
      },
      "execution_count": 35,
      "outputs": [
        {
          "output_type": "stream",
          "name": "stdout",
          "text": [
            "사용자명: user, 도메인: example.com\n"
          ]
        }
      ]
    },
    {
      "cell_type": "code",
      "source": [
        "csv_data = \"김철수,30,서울,개발자\"\n",
        "data_list = csv_data.split(\",\")\n",
        "print(f\"분리된 데이터: {data_list}\")\n"
      ],
      "metadata": {
        "colab": {
          "base_uri": "https://localhost:8080/"
        },
        "id": "j0H1mi9-5tFX",
        "outputId": "4cc1d702-c0d1-4aeb-a610-e468779520fd"
      },
      "execution_count": 37,
      "outputs": [
        {
          "output_type": "stream",
          "name": "stdout",
          "text": [
            "분리된 데이터: ['김철수', '30', '서울', '개발자']\n"
          ]
        }
      ]
    },
    {
      "cell_type": "code",
      "source": [
        "folders = [\"home\", \"user\", \"documents\", \"project\"]\n",
        "path = \"/\".join(folders)\n",
        "print(f\"경로: {path}\")\n"
      ],
      "metadata": {
        "colab": {
          "base_uri": "https://localhost:8080/"
        },
        "id": "3EfwjoVH6DRo",
        "outputId": "6e350742-f058-4418-c957-b3c87cabd26a"
      },
      "execution_count": 38,
      "outputs": [
        {
          "output_type": "stream",
          "name": "stdout",
          "text": [
            "경로: home/user/documents/project\n"
          ]
        }
      ]
    },
    {
      "cell_type": "code",
      "source": [
        "words = [\"Python\", \"is\", \"awesome\"]\n",
        "sentence = \" \".join(words)\n",
        "print(f\"문장: {sentence}\")\n"
      ],
      "metadata": {
        "colab": {
          "base_uri": "https://localhost:8080/"
        },
        "id": "skf6_brF62P4",
        "outputId": "a644c529-75fc-4a58-e217-0afca7a727e2"
      },
      "execution_count": 39,
      "outputs": [
        {
          "output_type": "stream",
          "name": "stdout",
          "text": [
            "문장: Python is awesome\n"
          ]
        }
      ]
    },
    {
      "cell_type": "code",
      "source": [
        "multiples_of_3 = [x for x in range(1, 21) if x % 3 == 0]\n",
        "print(f\"3의 배수: {multiples_of_3}\")\n"
      ],
      "metadata": {
        "colab": {
          "base_uri": "https://localhost:8080/"
        },
        "id": "YwI6800268P4",
        "outputId": "85e7b863-3929-4790-8143-a00366c801f3"
      },
      "execution_count": 40,
      "outputs": [
        {
          "output_type": "stream",
          "name": "stdout",
          "text": [
            "3의 배수: [3, 6, 9, 12, 15, 18]\n"
          ]
        }
      ]
    },
    {
      "cell_type": "code",
      "source": [
        "scores = [95, 87, 92, 88]\n",
        "print(\"성적 순위:\")\n",
        "for rank, score in enumerate(scores, start=1):\n",
        "  print(f\" {rank}등: {score}점\")"
      ],
      "metadata": {
        "colab": {
          "base_uri": "https://localhost:8080/"
        },
        "id": "fffP5x41-Lm3",
        "outputId": "7438744f-187f-41fb-9d00-1418ba00f376"
      },
      "execution_count": 43,
      "outputs": [
        {
          "output_type": "stream",
          "name": "stdout",
          "text": [
            "성적 순위:\n",
            " 1등: 95점\n",
            " 2등: 87점\n",
            " 3등: 92점\n",
            " 4등: 88점\n"
          ]
        }
      ]
    },
    {
      "cell_type": "code",
      "source": [
        "keys = [\"name\", \"age\", \"city\"]\n",
        "values = [\"홍길동\", 25, \"부산\"]\n",
        "person_dict = dict(zip(keys, values))\n",
        "print(f\"\\n딕셔너리: {person_dict}\")"
      ],
      "metadata": {
        "colab": {
          "base_uri": "https://localhost:8080/"
        },
        "id": "ZWHB6x_t_MEH",
        "outputId": "1429ce02-9e13-4049-e336-f2b5849a614b"
      },
      "execution_count": 44,
      "outputs": [
        {
          "output_type": "stream",
          "name": "stdout",
          "text": [
            "\n",
            "딕셔너리: {'name': '홍길동', 'age': 25, 'city': '부산'}\n"
          ]
        }
      ]
    },
    {
      "cell_type": "code",
      "source": [
        "celsius = [0, 10, 20, 30, 40]\n",
        "fahrenheit = list(map(lambda c: c * 9/5 + 32, celsius))\n",
        "print(f\"섭씨: {celsius}\")\n",
        "print(f\"화씨: {fahrenheit}\")"
      ],
      "metadata": {
        "colab": {
          "base_uri": "https://localhost:8080/"
        },
        "id": "97aVnEWFAen_",
        "outputId": "c4c12cae-4f9d-4662-8da0-ec6d2cd88f2c"
      },
      "execution_count": 45,
      "outputs": [
        {
          "output_type": "stream",
          "name": "stdout",
          "text": [
            "섭씨: [0, 10, 20, 30, 40]\n",
            "화씨: [32.0, 50.0, 68.0, 86.0, 104.0]\n"
          ]
        }
      ]
    },
    {
      "cell_type": "code",
      "source": [
        "numbers = [-5, 3, -1, 8, 0, -3, 7]\n",
        "positive = list(filter(lambda x: x > 0, numbers))\n",
        "print(f\"양수만: {positive}\")\n"
      ],
      "metadata": {
        "colab": {
          "base_uri": "https://localhost:8080/"
        },
        "id": "6LiV0Z74AgRn",
        "outputId": "7c2e9167-f05d-47c0-e5de-5240511473b3"
      },
      "execution_count": 46,
      "outputs": [
        {
          "output_type": "stream",
          "name": "stdout",
          "text": [
            "양수만: [3, 8, 7]\n"
          ]
        }
      ]
    }
  ]
}